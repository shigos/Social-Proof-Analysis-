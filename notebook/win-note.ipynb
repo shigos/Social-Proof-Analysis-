{
 "cells": [
  {
   "cell_type": "code",
   "execution_count": 64,
   "id": "bb7a6615",
   "metadata": {},
   "outputs": [],
   "source": [
    "import pyspark as ps \n",
    "import pandas as pd \n",
    "import matplotlib.pyplot as plt "
   ]
  },
  {
   "cell_type": "code",
   "execution_count": 65,
   "id": "6f8e43ef",
   "metadata": {},
   "outputs": [],
   "source": [
    "spark = (ps.sql.SparkSession.builder\n",
    "       .master(\"local[4]\")\n",
    "       .appName(\"sparkSQL exercise\")\n",
    "       .getOrCreate()\n",
    "       )"
   ]
  },
  {
   "cell_type": "code",
   "execution_count": 66,
   "id": "cbe0e2b0",
   "metadata": {},
   "outputs": [],
   "source": [
    "sc = spark.sparkContext"
   ]
  },
  {
   "cell_type": "code",
   "execution_count": 67,
   "id": "ab5a50c7",
   "metadata": {},
   "outputs": [
    {
     "data": {
      "text/html": [
       "\n",
       "        <div>\n",
       "            <p><b>SparkContext</b></p>\n",
       "\n",
       "            <p><a href=\"http://winsomes-mbp.attlocal.net:4040\">Spark UI</a></p>\n",
       "\n",
       "            <dl>\n",
       "              <dt>Version</dt>\n",
       "                <dd><code>v3.1.2</code></dd>\n",
       "              <dt>Master</dt>\n",
       "                <dd><code>local[4]</code></dd>\n",
       "              <dt>AppName</dt>\n",
       "                <dd><code>sparkSQL exercise</code></dd>\n",
       "            </dl>\n",
       "        </div>\n",
       "        "
      ],
      "text/plain": [
       "<SparkContext master=local[4] appName=sparkSQL exercise>"
      ]
     },
     "execution_count": 67,
     "metadata": {},
     "output_type": "execute_result"
    }
   ],
   "source": [
    "sc\n"
   ]
  },
  {
   "cell_type": "code",
   "execution_count": 85,
   "id": "8342af68",
   "metadata": {},
   "outputs": [],
   "source": [
    "df = spark.read.csv('../../../../Desktop/DSI/Data_Sets/245_1.csv',\n",
    "                   header = True,\n",
    "                   quote = '\"',\n",
    "                   sep = ',',\n",
    "                   inferSchema = True)"
   ]
  },
  {
   "cell_type": "code",
   "execution_count": 69,
   "id": "65d35b7c",
   "metadata": {},
   "outputs": [
    {
     "data": {
      "text/plain": [
       "<bound method DataFrame.show of DataFrame[id: string, brand: string, categories: string, dateAdded: timestamp, dateUpdated: timestamp, ean: string, keys: string, manufacturer: string, manufacturerNumber: string, name: string, reviews.date: string, reviews.dateAdded: timestamp, reviews.dateSeen: string, reviews.didPurchase: boolean, reviews.doRecommend: boolean, reviews.id: int, reviews.numHelpful: int, reviews.rating: int, reviews.sourceURLs: string, reviews.text: string, reviews.title: string, reviews.userCity: string, reviews.userProvince: string, reviews.username: string, upc: string]>"
      ]
     },
     "execution_count": 69,
     "metadata": {},
     "output_type": "execute_result"
    }
   ],
   "source": [
    "df.head\n",
    "df.show"
   ]
  },
  {
   "cell_type": "code",
   "execution_count": 89,
   "id": "53d4d34c",
   "metadata": {},
   "outputs": [
    {
     "data": {
      "text/plain": [
       "<bound method DataFrame.show of DataFrame[id: string, brand: string, categories: string, dateAdded: timestamp, dateUpdated: timestamp, ean: string, keys: string, manufacturer: string, manufacturerNumber: string, name: string, reviews.date: string, reviews.dateAdded: timestamp, reviews.dateSeen: string, reviews.didPurchase: boolean, reviews.doRecommend: boolean, reviews.id: int, reviews.numHelpful: int, reviews.rating: int, reviews.sourceURLs: string, reviews.text: string, reviews.title: string, reviews.userCity: string, reviews.userProvince: string, reviews.username: string, upc: string]>"
      ]
     },
     "execution_count": 89,
     "metadata": {},
     "output_type": "execute_result"
    }
   ],
   "source": [
    "df.show"
   ]
  },
  {
   "cell_type": "code",
   "execution_count": 81,
   "id": "5529d45d",
   "metadata": {},
   "outputs": [
    {
     "data": {
      "text/plain": [
       "DataFrame[summary: string, id: string, brand: string, categories: string, ean: string, keys: string, manufacturer: string, manufacturerNumber: string, name: string, reviews.date: string, reviews.dateSeen: string, reviews.id: string, reviews.numHelpful: string, reviews.rating: string, reviews.sourceURLs: string, reviews.text: string, reviews.title: string, reviews.userCity: string, reviews.userProvince: string, reviews.username: string, upc: string]"
      ]
     },
     "execution_count": 81,
     "metadata": {},
     "output_type": "execute_result"
    }
   ],
   "source": [
    "df.describe()\n"
   ]
  },
  {
   "cell_type": "code",
   "execution_count": 82,
   "id": "a3a6219c",
   "metadata": {},
   "outputs": [],
   "source": [
    "df.createOrReplaceTempView('df_reviews')"
   ]
  },
  {
   "cell_type": "code",
   "execution_count": 92,
   "id": "b9d62f54",
   "metadata": {},
   "outputs": [
    {
     "ename": "AnalysisException",
     "evalue": "cannot resolve '`reviewstitle`' given input columns: [df_reviews.brand, df_reviews.categories, df_reviews.dateAdded, df_reviews.dateUpdated, df_reviews.ean, df_reviews.id, df_reviews.keys, df_reviews.manufacturer, df_reviews.manufacturerNumber, df_reviews.name, df_reviews.reviews.date, df_reviews.reviews.dateAdded, df_reviews.reviews.dateSeen, df_reviews.reviews.didPurchase, df_reviews.reviews.doRecommend, df_reviews.reviews.id, df_reviews.reviews.numHelpful, df_reviews.reviews.rating, df_reviews.reviews.sourceURLs, df_reviews.reviews.text, df_reviews.reviews.title, df_reviews.reviews.userCity, df_reviews.reviews.userProvince, df_reviews.reviews.username, df_reviews.upc]; line 1 pos 13;\n'Project [brand#6336, 'reviewstitle]\n+- SubqueryAlias df_reviews\n   +- Relation[id#6335,brand#6336,categories#6337,dateAdded#6338,dateUpdated#6339,ean#6340,keys#6341,manufacturer#6342,manufacturerNumber#6343,name#6344,reviews.date#6345,reviews.dateAdded#6346,reviews.dateSeen#6347,reviews.didPurchase#6348,reviews.doRecommend#6349,reviews.id#6350,reviews.numHelpful#6351,reviews.rating#6352,reviews.sourceURLs#6353,reviews.text#6354,reviews.title#6355,reviews.userCity#6356,reviews.userProvince#6357,reviews.username#6358,upc#6359] csv\n",
     "output_type": "error",
     "traceback": [
      "\u001b[0;31m---------------------------------------------------------------------------\u001b[0m",
      "\u001b[0;31mAnalysisException\u001b[0m                         Traceback (most recent call last)",
      "\u001b[0;32m<ipython-input-92-fbe1f0727780>\u001b[0m in \u001b[0;36m<module>\u001b[0;34m\u001b[0m\n\u001b[0;32m----> 1\u001b[0;31m \u001b[0mdf_sql_brand\u001b[0m \u001b[0;34m=\u001b[0m \u001b[0mspark\u001b[0m\u001b[0;34m.\u001b[0m\u001b[0msql\u001b[0m\u001b[0;34m(\u001b[0m\u001b[0;34m\"SELECT brand,reviewstitle FROM df_reviews\"\u001b[0m\u001b[0;34m)\u001b[0m\u001b[0;34m\u001b[0m\u001b[0;34m\u001b[0m\u001b[0m\n\u001b[0m\u001b[1;32m      2\u001b[0m \u001b[0mdf_sql_brand\u001b[0m\u001b[0;34m.\u001b[0m\u001b[0mshow\u001b[0m\u001b[0;34m(\u001b[0m\u001b[0;36m100\u001b[0m\u001b[0;34m)\u001b[0m\u001b[0;34m\u001b[0m\u001b[0;34m\u001b[0m\u001b[0m\n",
      "\u001b[0;32m~/opt/anaconda3/lib/python3.8/site-packages/pyspark/sql/session.py\u001b[0m in \u001b[0;36msql\u001b[0;34m(self, sqlQuery)\u001b[0m\n\u001b[1;32m    721\u001b[0m         \u001b[0;34m[\u001b[0m\u001b[0mRow\u001b[0m\u001b[0;34m(\u001b[0m\u001b[0mf1\u001b[0m\u001b[0;34m=\u001b[0m\u001b[0;36m1\u001b[0m\u001b[0;34m,\u001b[0m \u001b[0mf2\u001b[0m\u001b[0;34m=\u001b[0m\u001b[0;34m'row1'\u001b[0m\u001b[0;34m)\u001b[0m\u001b[0;34m,\u001b[0m \u001b[0mRow\u001b[0m\u001b[0;34m(\u001b[0m\u001b[0mf1\u001b[0m\u001b[0;34m=\u001b[0m\u001b[0;36m2\u001b[0m\u001b[0;34m,\u001b[0m \u001b[0mf2\u001b[0m\u001b[0;34m=\u001b[0m\u001b[0;34m'row2'\u001b[0m\u001b[0;34m)\u001b[0m\u001b[0;34m,\u001b[0m \u001b[0mRow\u001b[0m\u001b[0;34m(\u001b[0m\u001b[0mf1\u001b[0m\u001b[0;34m=\u001b[0m\u001b[0;36m3\u001b[0m\u001b[0;34m,\u001b[0m \u001b[0mf2\u001b[0m\u001b[0;34m=\u001b[0m\u001b[0;34m'row3'\u001b[0m\u001b[0;34m)\u001b[0m\u001b[0;34m]\u001b[0m\u001b[0;34m\u001b[0m\u001b[0;34m\u001b[0m\u001b[0m\n\u001b[1;32m    722\u001b[0m         \"\"\"\n\u001b[0;32m--> 723\u001b[0;31m         \u001b[0;32mreturn\u001b[0m \u001b[0mDataFrame\u001b[0m\u001b[0;34m(\u001b[0m\u001b[0mself\u001b[0m\u001b[0;34m.\u001b[0m\u001b[0m_jsparkSession\u001b[0m\u001b[0;34m.\u001b[0m\u001b[0msql\u001b[0m\u001b[0;34m(\u001b[0m\u001b[0msqlQuery\u001b[0m\u001b[0;34m)\u001b[0m\u001b[0;34m,\u001b[0m \u001b[0mself\u001b[0m\u001b[0;34m.\u001b[0m\u001b[0m_wrapped\u001b[0m\u001b[0;34m)\u001b[0m\u001b[0;34m\u001b[0m\u001b[0;34m\u001b[0m\u001b[0m\n\u001b[0m\u001b[1;32m    724\u001b[0m \u001b[0;34m\u001b[0m\u001b[0m\n\u001b[1;32m    725\u001b[0m     \u001b[0;32mdef\u001b[0m \u001b[0mtable\u001b[0m\u001b[0;34m(\u001b[0m\u001b[0mself\u001b[0m\u001b[0;34m,\u001b[0m \u001b[0mtableName\u001b[0m\u001b[0;34m)\u001b[0m\u001b[0;34m:\u001b[0m\u001b[0;34m\u001b[0m\u001b[0;34m\u001b[0m\u001b[0m\n",
      "\u001b[0;32m~/opt/anaconda3/lib/python3.8/site-packages/py4j/java_gateway.py\u001b[0m in \u001b[0;36m__call__\u001b[0;34m(self, *args)\u001b[0m\n\u001b[1;32m   1302\u001b[0m \u001b[0;34m\u001b[0m\u001b[0m\n\u001b[1;32m   1303\u001b[0m         \u001b[0manswer\u001b[0m \u001b[0;34m=\u001b[0m \u001b[0mself\u001b[0m\u001b[0;34m.\u001b[0m\u001b[0mgateway_client\u001b[0m\u001b[0;34m.\u001b[0m\u001b[0msend_command\u001b[0m\u001b[0;34m(\u001b[0m\u001b[0mcommand\u001b[0m\u001b[0;34m)\u001b[0m\u001b[0;34m\u001b[0m\u001b[0;34m\u001b[0m\u001b[0m\n\u001b[0;32m-> 1304\u001b[0;31m         return_value = get_return_value(\n\u001b[0m\u001b[1;32m   1305\u001b[0m             answer, self.gateway_client, self.target_id, self.name)\n\u001b[1;32m   1306\u001b[0m \u001b[0;34m\u001b[0m\u001b[0m\n",
      "\u001b[0;32m~/opt/anaconda3/lib/python3.8/site-packages/pyspark/sql/utils.py\u001b[0m in \u001b[0;36mdeco\u001b[0;34m(*a, **kw)\u001b[0m\n\u001b[1;32m    115\u001b[0m                 \u001b[0;31m# Hide where the exception came from that shows a non-Pythonic\u001b[0m\u001b[0;34m\u001b[0m\u001b[0;34m\u001b[0m\u001b[0;34m\u001b[0m\u001b[0m\n\u001b[1;32m    116\u001b[0m                 \u001b[0;31m# JVM exception message.\u001b[0m\u001b[0;34m\u001b[0m\u001b[0;34m\u001b[0m\u001b[0;34m\u001b[0m\u001b[0m\n\u001b[0;32m--> 117\u001b[0;31m                 \u001b[0;32mraise\u001b[0m \u001b[0mconverted\u001b[0m \u001b[0;32mfrom\u001b[0m \u001b[0;32mNone\u001b[0m\u001b[0;34m\u001b[0m\u001b[0;34m\u001b[0m\u001b[0m\n\u001b[0m\u001b[1;32m    118\u001b[0m             \u001b[0;32melse\u001b[0m\u001b[0;34m:\u001b[0m\u001b[0;34m\u001b[0m\u001b[0;34m\u001b[0m\u001b[0m\n\u001b[1;32m    119\u001b[0m                 \u001b[0;32mraise\u001b[0m\u001b[0;34m\u001b[0m\u001b[0;34m\u001b[0m\u001b[0m\n",
      "\u001b[0;31mAnalysisException\u001b[0m: cannot resolve '`reviewstitle`' given input columns: [df_reviews.brand, df_reviews.categories, df_reviews.dateAdded, df_reviews.dateUpdated, df_reviews.ean, df_reviews.id, df_reviews.keys, df_reviews.manufacturer, df_reviews.manufacturerNumber, df_reviews.name, df_reviews.reviews.date, df_reviews.reviews.dateAdded, df_reviews.reviews.dateSeen, df_reviews.reviews.didPurchase, df_reviews.reviews.doRecommend, df_reviews.reviews.id, df_reviews.reviews.numHelpful, df_reviews.reviews.rating, df_reviews.reviews.sourceURLs, df_reviews.reviews.text, df_reviews.reviews.title, df_reviews.reviews.userCity, df_reviews.reviews.userProvince, df_reviews.reviews.username, df_reviews.upc]; line 1 pos 13;\n'Project [brand#6336, 'reviewstitle]\n+- SubqueryAlias df_reviews\n   +- Relation[id#6335,brand#6336,categories#6337,dateAdded#6338,dateUpdated#6339,ean#6340,keys#6341,manufacturer#6342,manufacturerNumber#6343,name#6344,reviews.date#6345,reviews.dateAdded#6346,reviews.dateSeen#6347,reviews.didPurchase#6348,reviews.doRecommend#6349,reviews.id#6350,reviews.numHelpful#6351,reviews.rating#6352,reviews.sourceURLs#6353,reviews.text#6354,reviews.title#6355,reviews.userCity#6356,reviews.userProvince#6357,reviews.username#6358,upc#6359] csv\n"
     ]
    }
   ],
   "source": [
    "df_sql_brand = spark.sql(\"SELECT brand,reviewstitle FROM df_reviews\")\n",
    "df_sql_brand.show(100)"
   ]
  },
  {
   "cell_type": "code",
   "execution_count": null,
   "id": "62d4e9d1",
   "metadata": {},
   "outputs": [],
   "source": [
    "pandas_df = df_sql_brand.toPandas()"
   ]
  },
  {
   "cell_type": "code",
   "execution_count": null,
   "id": "17a2f3de",
   "metadata": {},
   "outputs": [],
   "source": [
    "len(pandas_df)\n"
   ]
  },
  {
   "cell_type": "code",
   "execution_count": null,
   "id": "ce9466f2",
   "metadata": {},
   "outputs": [],
   "source": [
    "pandas_df"
   ]
  },
  {
   "cell_type": "code",
   "execution_count": null,
   "id": "8e2ea59e",
   "metadata": {},
   "outputs": [],
   "source": [
    "null = pandas_df[pandas_df[\"reviewsdidPurchase\"]== Null]"
   ]
  },
  {
   "cell_type": "code",
   "execution_count": null,
   "id": "e6f6afdb",
   "metadata": {},
   "outputs": [],
   "source": [
    "nverifieddf= pandas_df[pandas_df[\"reviewsdidPurchase\"]== False]"
   ]
  },
  {
   "cell_type": "code",
   "execution_count": null,
   "id": "119a62df",
   "metadata": {},
   "outputs": [],
   "source": [
    "len(nverifieddf)"
   ]
  },
  {
   "cell_type": "code",
   "execution_count": null,
   "id": "f737d18c",
   "metadata": {},
   "outputs": [],
   "source": []
  },
  {
   "cell_type": "code",
   "execution_count": null,
   "id": "05be91d5",
   "metadata": {
    "scrolled": true
   },
   "outputs": [],
   "source": [
    " verifieddf = pandas_df[pandas_df[\"reviewsdidPurchase\"] == True]"
   ]
  },
  {
   "cell_type": "code",
   "execution_count": null,
   "id": "3d60ab82",
   "metadata": {},
   "outputs": [],
   "source": [
    "len(verifieddf)"
   ]
  },
  {
   "cell_type": "code",
   "execution_count": null,
   "id": "9ef9213d",
   "metadata": {},
   "outputs": [],
   "source": [
    "verifieddf['brand'].unique()"
   ]
  },
  {
   "cell_type": "code",
   "execution_count": null,
   "id": "fe715e2d",
   "metadata": {},
   "outputs": [],
   "source": [
    "len(verifieddf['brand'].unique())"
   ]
  },
  {
   "cell_type": "code",
   "execution_count": null,
   "id": "8aa84b8b",
   "metadata": {},
   "outputs": [],
   "source": [
    "low_verified= verifieddf[verifieddf['reviewsrating']<3]"
   ]
  },
  {
   "cell_type": "code",
   "execution_count": null,
   "id": "ad07c64c",
   "metadata": {},
   "outputs": [],
   "source": [
    "low_verified"
   ]
  },
  {
   "cell_type": "code",
   "execution_count": null,
   "id": "430dbfa4",
   "metadata": {},
   "outputs": [],
   "source": [
    "high_verified = verifieddf[verifieddf['reviewsrating']>3]"
   ]
  },
  {
   "cell_type": "code",
   "execution_count": null,
   "id": "30ec2d61",
   "metadata": {},
   "outputs": [],
   "source": [
    "high_verified"
   ]
  },
  {
   "cell_type": "code",
   "execution_count": null,
   "id": "87cc29f1",
   "metadata": {},
   "outputs": [],
   "source": [
    "brand = pandas_df['brand'].unique()"
   ]
  },
  {
   "cell_type": "code",
   "execution_count": null,
   "id": "9ceaadcb",
   "metadata": {},
   "outputs": [],
   "source": [
    "len(brand)"
   ]
  },
  {
   "cell_type": "code",
   "execution_count": null,
   "id": "640aaa20",
   "metadata": {},
   "outputs": [],
   "source": [
    "brand"
   ]
  },
  {
   "cell_type": "code",
   "execution_count": null,
   "id": "54e9328d",
   "metadata": {},
   "outputs": [],
   "source": []
  },
  {
   "cell_type": "code",
   "execution_count": null,
   "id": "e9845ed7",
   "metadata": {},
   "outputs": [],
   "source": [
    "fig,ax = plt.subplots()\n",
    "ax.hist(pandas_df['reviewsrating'])\n",
    "plt.show()"
   ]
  },
  {
   "cell_type": "code",
   "execution_count": null,
   "id": "c5ffa25a",
   "metadata": {},
   "outputs": [],
   "source": [
    "fig,ax = plt.subplots()\n",
    "ax.hist(pandas_df[''])"
   ]
  },
  {
   "cell_type": "code",
   "execution_count": null,
   "id": "52efe130",
   "metadata": {},
   "outputs": [],
   "source": []
  }
 ],
 "metadata": {
  "kernelspec": {
   "display_name": "Python 3",
   "language": "python",
   "name": "python3"
  },
  "language_info": {
   "codemirror_mode": {
    "name": "ipython",
    "version": 3
   },
   "file_extension": ".py",
   "mimetype": "text/x-python",
   "name": "python",
   "nbconvert_exporter": "python",
   "pygments_lexer": "ipython3",
   "version": "3.8.10"
  }
 },
 "nbformat": 4,
 "nbformat_minor": 5
}
