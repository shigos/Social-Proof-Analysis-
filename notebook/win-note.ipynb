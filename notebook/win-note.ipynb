{
 "cells": [
  {
   "cell_type": "code",
   "execution_count": 1,
   "id": "40069d5e",
   "metadata": {},
   "outputs": [],
   "source": [
    "import pyspark as ps "
   ]
  },
  {
   "cell_type": "code",
   "execution_count": 5,
   "id": "6d0d8fac",
   "metadata": {},
   "outputs": [],
   "source": [
    "spark = (ps.sql.SparkSession.builder\n",
    "       .master(\"local[4]\")\n",
    "       .appName(\"sparkSQL exercise\")\n",
    "       .getOrCreate()\n",
    "       )"
   ]
  },
  {
   "cell_type": "code",
   "execution_count": 6,
   "id": "f22bf2e5",
   "metadata": {},
   "outputs": [],
   "source": [
    "sc = spark.sparkContext"
   ]
  },
  {
   "cell_type": "code",
   "execution_count": 8,
   "id": "06a84684",
   "metadata": {},
   "outputs": [],
   "source": [
    "spark.stop()"
   ]
  }
 ],
 "metadata": {
  "kernelspec": {
   "display_name": "Python 3",
   "language": "python",
   "name": "python3"
  },
  "language_info": {
   "codemirror_mode": {
    "name": "ipython",
    "version": 3
   },
   "file_extension": ".py",
   "mimetype": "text/x-python",
   "name": "python",
   "nbconvert_exporter": "python",
   "pygments_lexer": "ipython3",
   "version": "3.8.10"
  }
 },
 "nbformat": 4,
 "nbformat_minor": 5
}
