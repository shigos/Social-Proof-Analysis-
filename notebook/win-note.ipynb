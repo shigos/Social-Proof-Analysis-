{
 "cells": [
  {
   "cell_type": "code",
   "execution_count": 107,
   "id": "bb7a6615",
   "metadata": {},
   "outputs": [],
   "source": [
    "import pyspark as ps \n",
    "import pandas as pd \n",
    "import matplotlib.pyplot as plt \n",
    "import numpy as np\n",
    "from statsmodels.stats.proportion import proportions_ztest"
   ]
  },
  {
   "cell_type": "code",
   "execution_count": 3,
   "id": "6f8e43ef",
   "metadata": {},
   "outputs": [],
   "source": [
    "spark = (ps.sql.SparkSession.builder\n",
    "       .master(\"local[4]\")\n",
    "       .appName(\"sparkSQL exercise\")\n",
    "       .getOrCreate()\n",
    "       )"
   ]
  },
  {
   "cell_type": "code",
   "execution_count": 4,
   "id": "cbe0e2b0",
   "metadata": {},
   "outputs": [],
   "source": [
    "sc = spark.sparkContext"
   ]
  },
  {
   "cell_type": "code",
   "execution_count": 5,
   "id": "ab5a50c7",
   "metadata": {},
   "outputs": [
    {
     "data": {
      "text/html": [
       "\n",
       "        <div>\n",
       "            <p><b>SparkContext</b></p>\n",
       "\n",
       "            <p><a href=\"http://winsomes-mbp.attlocal.net:4040\">Spark UI</a></p>\n",
       "\n",
       "            <dl>\n",
       "              <dt>Version</dt>\n",
       "                <dd><code>v3.1.2</code></dd>\n",
       "              <dt>Master</dt>\n",
       "                <dd><code>local[4]</code></dd>\n",
       "              <dt>AppName</dt>\n",
       "                <dd><code>sparkSQL exercise</code></dd>\n",
       "            </dl>\n",
       "        </div>\n",
       "        "
      ],
      "text/plain": [
       "<SparkContext master=local[4] appName=sparkSQL exercise>"
      ]
     },
     "execution_count": 5,
     "metadata": {},
     "output_type": "execute_result"
    }
   ],
   "source": [
    "sc\n"
   ]
  },
  {
   "cell_type": "code",
   "execution_count": 6,
   "id": "8342af68",
   "metadata": {},
   "outputs": [],
   "source": [
    "df = spark.read.csv('../../../../Desktop/DSI/Data_Sets/245_1 .csv',\n",
    "                   header = True,\n",
    "                   quote = '\"',\n",
    "                   sep = ',',\n",
    "                   inferSchema = True)"
   ]
  },
  {
   "cell_type": "code",
   "execution_count": 7,
   "id": "65d35b7c",
   "metadata": {},
   "outputs": [
    {
     "name": "stdout",
     "output_type": "stream",
     "text": [
      "root\n",
      " |-- id: string (nullable = true)\n",
      " |-- brand: string (nullable = true)\n",
      " |-- categories: string (nullable = true)\n",
      " |-- dateAdded: timestamp (nullable = true)\n",
      " |-- dateUpdated: timestamp (nullable = true)\n",
      " |-- ean: string (nullable = true)\n",
      " |-- keys: string (nullable = true)\n",
      " |-- manufacturer: string (nullable = true)\n",
      " |-- manufacturerNumber: string (nullable = true)\n",
      " |-- name: string (nullable = true)\n",
      " |-- reviews.date: string (nullable = true)\n",
      " |-- reviews.dateAdded: timestamp (nullable = true)\n",
      " |-- reviews.dateSeen: string (nullable = true)\n",
      " |-- reviews.didPurchase: boolean (nullable = true)\n",
      " |-- reviews.doRecommend: boolean (nullable = true)\n",
      " |-- reviews.id: integer (nullable = true)\n",
      " |-- reviews.numHelpful: integer (nullable = true)\n",
      " |-- reviews.rating: integer (nullable = true)\n",
      " |-- reviews.sourceURLs: string (nullable = true)\n",
      " |-- reviews.text: string (nullable = true)\n",
      " |-- reviews.title: string (nullable = true)\n",
      " |-- reviews.userCity: string (nullable = true)\n",
      " |-- reviews.userProvince: string (nullable = true)\n",
      " |-- reviews.username: string (nullable = true)\n",
      " |-- upc: string (nullable = true)\n",
      "\n"
     ]
    }
   ],
   "source": [
    "df.printSchema()"
   ]
  },
  {
   "cell_type": "code",
   "execution_count": null,
   "id": "53d4d34c",
   "metadata": {},
   "outputs": [],
   "source": []
  },
  {
   "cell_type": "code",
   "execution_count": 8,
   "id": "5529d45d",
   "metadata": {},
   "outputs": [
    {
     "data": {
      "text/plain": [
       "DataFrame[summary: string, id: string, brand: string, categories: string, ean: string, keys: string, manufacturer: string, manufacturerNumber: string, name: string, reviews.date: string, reviews.dateSeen: string, reviews.id: string, reviews.numHelpful: string, reviews.rating: string, reviews.sourceURLs: string, reviews.text: string, reviews.title: string, reviews.userCity: string, reviews.userProvince: string, reviews.username: string, upc: string]"
      ]
     },
     "execution_count": 8,
     "metadata": {},
     "output_type": "execute_result"
    }
   ],
   "source": [
    "df.describe()\n"
   ]
  },
  {
   "cell_type": "code",
   "execution_count": 9,
   "id": "bd1ea050",
   "metadata": {},
   "outputs": [],
   "source": [
    "df = df.withColumnRenamed('reviews.date','reviewsdate').withColumnRenamed(\"reviews.didPurchase\",\"didPurchase\").withColumnRenamed('reviews.doRecommend','doRecommend').withColumnRenamed('reviews.rating','reviewsrating').withColumnRenamed('reviews.text','reviewstext').withColumnRenamed('reviews.title','reviewstitle').withColumnRenamed('reviews.sourceURLs','URL')\n"
   ]
  },
  {
   "cell_type": "code",
   "execution_count": 10,
   "id": "a867e7de",
   "metadata": {},
   "outputs": [],
   "source": [
    "df.createOrReplaceTempView('df_reviews')"
   ]
  },
  {
   "cell_type": "code",
   "execution_count": 11,
   "id": "c4c587f3",
   "metadata": {},
   "outputs": [
    {
     "name": "stdout",
     "output_type": "stream",
     "text": [
      "root\n",
      " |-- id: string (nullable = true)\n",
      " |-- brand: string (nullable = true)\n",
      " |-- categories: string (nullable = true)\n",
      " |-- dateAdded: timestamp (nullable = true)\n",
      " |-- dateUpdated: timestamp (nullable = true)\n",
      " |-- ean: string (nullable = true)\n",
      " |-- keys: string (nullable = true)\n",
      " |-- manufacturer: string (nullable = true)\n",
      " |-- manufacturerNumber: string (nullable = true)\n",
      " |-- name: string (nullable = true)\n",
      " |-- reviewsdate: string (nullable = true)\n",
      " |-- reviews.dateAdded: timestamp (nullable = true)\n",
      " |-- reviews.dateSeen: string (nullable = true)\n",
      " |-- didPurchase: boolean (nullable = true)\n",
      " |-- doRecommend: boolean (nullable = true)\n",
      " |-- reviews.id: integer (nullable = true)\n",
      " |-- reviews.numHelpful: integer (nullable = true)\n",
      " |-- reviewsrating: integer (nullable = true)\n",
      " |-- URL: string (nullable = true)\n",
      " |-- reviewstext: string (nullable = true)\n",
      " |-- reviewstitle: string (nullable = true)\n",
      " |-- reviews.userCity: string (nullable = true)\n",
      " |-- reviews.userProvince: string (nullable = true)\n",
      " |-- reviews.username: string (nullable = true)\n",
      " |-- upc: string (nullable = true)\n",
      "\n"
     ]
    }
   ],
   "source": [
    "df.printSchema()"
   ]
  },
  {
   "cell_type": "code",
   "execution_count": 12,
   "id": "b9d62f54",
   "metadata": {},
   "outputs": [
    {
     "name": "stdout",
     "output_type": "stream",
     "text": [
      "+---------------+--------------------+--------------------+--------------------+--------------------+-----------+-----------+-------------+--------------------+------------------+--------------------+-----------+\n",
      "|          brand|          categories|        manufacturer|                name|         reviewsdate|didPurchase|doRecommend|reviewsrating|         reviewstext|      reviewstitle|                 URL|        upc|\n",
      "+---------------+--------------------+--------------------+--------------------+--------------------+-----------+-----------+-------------+--------------------+------------------+--------------------+-----------+\n",
      "|Universal Music|Movies, Music & B...|Universal Music G...|Pink Friday: Roma...|2012-11-30T06:21:...|       null|       null|            5|i love this album...|      Just Awesome|https://redsky.ta...|6.02537E+11|\n",
      "|       Lundberg|Food,Packaged Foo...|            Lundberg|Lundberg Organic ...|2017-07-09T00:00:...|       true|       null|            5|Good flavor. This...|              Good|https://www.walma...|73416000391|\n",
      "|       Lundberg|Food,Packaged Foo...|            Lundberg|Lundberg Organic ...|2017-07-09T00:00:...|       true|       null|            5|        Good flavor.|              Good|https://www.walma...|73416000391|\n",
      "|            K-Y|Personal Care,Med...|                 K-Y|K-Y Love Sensuali...|2016-01-06T00:00:...|      false|      false|            1|I read through th...|      Disappointed|https://www.walma...|67981934427|\n",
      "|            K-Y|Personal Care,Med...|                 K-Y|K-Y Love Sensuali...|2016-12-21T00:00:...|      false|      false|            1|My husband bought...|        Irritation|https://www.walma...|67981934427|\n",
      "|            K-Y|Personal Care,Med...|                 K-Y|K-Y Love Sensuali...|2016-04-20T00:00:...|      false|      false|            1|My boyfriend and ...|      Not worth it|https://www.walma...|67981934427|\n",
      "|            K-Y|Personal Care,Med...|                 K-Y|K-Y Love Sensuali...|2016-02-08T00:00:...|      false|      false|            1|Bought this earli...|     Disappointing|https://www.walma...|67981934427|\n",
      "|            K-Y|Personal Care,Med...|                 K-Y|K-Y Love Sensuali...|2016-02-21T00:00:...|      false|      false|            1|I bought this pro...|  Not happy at all|https://www.walma...|67981934427|\n",
      "|            K-Y|Personal Care,Med...|                 K-Y|K-Y Love Sensuali...|2016-03-28T00:00:...|      false|      false|            1|My husband and I ...|Very disappointing|https://www.walma...|67981934427|\n",
      "|            K-Y|Personal Care,Med...|                 K-Y|K-Y Love Sensuali...|2016-03-21T00:00:...|      false|      false|            1|Got as a surprise...|         Don't buy|https://www.walma...|67981934427|\n",
      "+---------------+--------------------+--------------------+--------------------+--------------------+-----------+-----------+-------------+--------------------+------------------+--------------------+-----------+\n",
      "only showing top 10 rows\n",
      "\n"
     ]
    }
   ],
   "source": [
    "df_sql_brand = spark.sql(\"SELECT brand,categories,manufacturer,name,reviewsdate,didPurchase,doRecommend,reviewsrating,reviewstext,reviewstitle,URL,upc FROM df_reviews\")\n",
    "df_sql_brand.show(10)"
   ]
  },
  {
   "cell_type": "code",
   "execution_count": 13,
   "id": "62d4e9d1",
   "metadata": {},
   "outputs": [],
   "source": [
    "pandas_df = df_sql_brand.toPandas()\n"
   ]
  },
  {
   "cell_type": "code",
   "execution_count": 14,
   "id": "325ac675",
   "metadata": {},
   "outputs": [],
   "source": [
    "pandas_df= pandas_df.replace(\"L'oreal Paris\",\"L'Oreal Paris\")"
   ]
  },
  {
   "cell_type": "code",
   "execution_count": 15,
   "id": "17a2f3de",
   "metadata": {},
   "outputs": [
    {
     "data": {
      "text/plain": [
       "71044"
      ]
     },
     "execution_count": 15,
     "metadata": {},
     "output_type": "execute_result"
    }
   ],
   "source": [
    "len(pandas_df)\n"
   ]
  },
  {
   "cell_type": "code",
   "execution_count": 16,
   "id": "ce9466f2",
   "metadata": {},
   "outputs": [
    {
     "data": {
      "text/plain": [
       "Clorox                        10700\n",
       "Universal Home Video           6178\n",
       "Tide                           5384\n",
       "L'Oreal Paris                  4971\n",
       "FOX                            4498\n",
       "Disney                         3692\n",
       "Olay                           3420\n",
       "Warner Home Video              3330\n",
       "Sony Pictures                  2161\n",
       "Rubbermaid                     1939\n",
       "Warner Bros.                   1920\n",
       "Quilted Northern               1439\n",
       "Lionsgate                      1351\n",
       "Burt's Bees                     965\n",
       "Summit Entertainment            821\n",
       "Nexxus                          773\n",
       "Maybelline                      742\n",
       "Pantene                         655\n",
       "Foodsaver                       587\n",
       "Head & Shoulders                565\n",
       "Kiss                            562\n",
       "Aveeno                          442\n",
       "Lundberg                        426\n",
       "Lemi Shine                      423\n",
       "Just For Men                    416\n",
       "Clear Scalp & Hair Therapy      377\n",
       "Hoover                          372\n",
       "Sony                            370\n",
       "Pendaflex                       368\n",
       "Windex                          348\n",
       "Lysol                           336\n",
       "Target.com Use Only             331\n",
       "Paramount Pictures              328\n",
       "Samsung                         328\n",
       "Avery                           316\n",
       "Honeywell                       310\n",
       "Tostitos                        287\n",
       "Storkcraft                      266\n",
       "Vaseline                        258\n",
       "Hormel                          251\n",
       "Name: brand, dtype: int64"
      ]
     },
     "execution_count": 16,
     "metadata": {},
     "output_type": "execute_result"
    }
   ],
   "source": [
    "pandas_df['brand'].value_counts().head(40)"
   ]
  },
  {
   "cell_type": "code",
   "execution_count": 35,
   "id": "810a8920",
   "metadata": {},
   "outputs": [
    {
     "data": {
      "text/html": [
       "<div>\n",
       "<style scoped>\n",
       "    .dataframe tbody tr th:only-of-type {\n",
       "        vertical-align: middle;\n",
       "    }\n",
       "\n",
       "    .dataframe tbody tr th {\n",
       "        vertical-align: top;\n",
       "    }\n",
       "\n",
       "    .dataframe thead th {\n",
       "        text-align: right;\n",
       "    }\n",
       "</style>\n",
       "<table border=\"1\" class=\"dataframe\">\n",
       "  <thead>\n",
       "    <tr style=\"text-align: right;\">\n",
       "      <th></th>\n",
       "      <th>brand</th>\n",
       "      <th>categories</th>\n",
       "      <th>manufacturer</th>\n",
       "      <th>name</th>\n",
       "      <th>reviewsdate</th>\n",
       "      <th>didPurchase</th>\n",
       "      <th>doRecommend</th>\n",
       "      <th>reviewsrating</th>\n",
       "      <th>reviewstext</th>\n",
       "      <th>reviewstitle</th>\n",
       "      <th>URL</th>\n",
       "      <th>upc</th>\n",
       "    </tr>\n",
       "  </thead>\n",
       "  <tbody>\n",
       "    <tr>\n",
       "      <th>6588</th>\n",
       "      <td>Clorox</td>\n",
       "      <td>Household Essentials,Cleaning Supplies,Kitchen...</td>\n",
       "      <td>Clorox</td>\n",
       "      <td>Clorox Disinfecting Wipes Value Pack Scented 1...</td>\n",
       "      <td>2012-01-26T13:31:39.000Z</td>\n",
       "      <td>None</td>\n",
       "      <td>True</td>\n",
       "      <td>1</td>\n",
       "      <td>This is an outstanding product, it not only cl...</td>\n",
       "      <td>Fresh Smell</td>\n",
       "      <td>https://redsky.target.com/groot-domain-api/v1/...</td>\n",
       "      <td>44600015996</td>\n",
       "    </tr>\n",
       "    <tr>\n",
       "      <th>6589</th>\n",
       "      <td>Clorox</td>\n",
       "      <td>Household Essentials,Cleaning Supplies,Kitchen...</td>\n",
       "      <td>Clorox</td>\n",
       "      <td>Clorox Disinfecting Wipes Value Pack Scented 1...</td>\n",
       "      <td>2013-08-15T15:47:17.000Z</td>\n",
       "      <td>None</td>\n",
       "      <td>None</td>\n",
       "      <td>1</td>\n",
       "      <td>I have been an avid user of Clorox Wipes for m...</td>\n",
       "      <td>Smell</td>\n",
       "      <td>https://redsky.target.com/groot-domain-api/v1/...</td>\n",
       "      <td>44600015996</td>\n",
       "    </tr>\n",
       "    <tr>\n",
       "      <th>6590</th>\n",
       "      <td>Clorox</td>\n",
       "      <td>Household Essentials,Cleaning Supplies,Kitchen...</td>\n",
       "      <td>Clorox</td>\n",
       "      <td>Clorox Disinfecting Wipes Value Pack Scented 1...</td>\n",
       "      <td>2013-03-29T07:41:03.000Z</td>\n",
       "      <td>None</td>\n",
       "      <td>None</td>\n",
       "      <td>1</td>\n",
       "      <td>I have used Clorox Wipes for years... Cannot l...</td>\n",
       "      <td>Who Changed The Scent??</td>\n",
       "      <td>https://redsky.target.com/groot-domain-api/v1/...</td>\n",
       "      <td>44600015996</td>\n",
       "    </tr>\n",
       "    <tr>\n",
       "      <th>6591</th>\n",
       "      <td>Clorox</td>\n",
       "      <td>Household Essentials,Cleaning Supplies,Kitchen...</td>\n",
       "      <td>Clorox</td>\n",
       "      <td>Clorox Disinfecting Wipes Value Pack Scented 1...</td>\n",
       "      <td>2013-03-26T00:03:29.000Z</td>\n",
       "      <td>None</td>\n",
       "      <td>None</td>\n",
       "      <td>1</td>\n",
       "      <td>I use Clorox wipes fanatically all over my hom...</td>\n",
       "      <td>New Product Stinks</td>\n",
       "      <td>https://redsky.target.com/groot-domain-api/v1/...</td>\n",
       "      <td>44600015996</td>\n",
       "    </tr>\n",
       "    <tr>\n",
       "      <th>6592</th>\n",
       "      <td>Clorox</td>\n",
       "      <td>Household Essentials,Cleaning Supplies,Kitchen...</td>\n",
       "      <td>Clorox</td>\n",
       "      <td>Clorox Disinfecting Wipes Value Pack Scented 1...</td>\n",
       "      <td>2015-01-01T00:00:00.000Z</td>\n",
       "      <td>False</td>\n",
       "      <td>True</td>\n",
       "      <td>1</td>\n",
       "      <td>Being a mom of three, disinfecting the home ha...</td>\n",
       "      <td>Germ free</td>\n",
       "      <td>https://www.walmart.com/reviews/product/148983...</td>\n",
       "      <td>44600015996</td>\n",
       "    </tr>\n",
       "    <tr>\n",
       "      <th>...</th>\n",
       "      <td>...</td>\n",
       "      <td>...</td>\n",
       "      <td>...</td>\n",
       "      <td>...</td>\n",
       "      <td>...</td>\n",
       "      <td>...</td>\n",
       "      <td>...</td>\n",
       "      <td>...</td>\n",
       "      <td>...</td>\n",
       "      <td>...</td>\n",
       "      <td>...</td>\n",
       "      <td>...</td>\n",
       "    </tr>\n",
       "    <tr>\n",
       "      <th>51160</th>\n",
       "      <td>Tide</td>\n",
       "      <td>Household Essentials,Ways To Shop,Household Es...</td>\n",
       "      <td>Procter &amp; Gamble</td>\n",
       "      <td>Tide Original Liquid Laundry Detergent - 100 Oz</td>\n",
       "      <td>2009-07-09T00:00:00.000Z</td>\n",
       "      <td>False</td>\n",
       "      <td>True</td>\n",
       "      <td>5</td>\n",
       "      <td>I* absolutely love tide2x with bleach alternat...</td>\n",
       "      <td>tide 2x/bleach alternative</td>\n",
       "      <td>https://www.walmart.com/reviews/product/194062...</td>\n",
       "      <td>37000138822</td>\n",
       "    </tr>\n",
       "    <tr>\n",
       "      <th>51161</th>\n",
       "      <td>Tide</td>\n",
       "      <td>Household Essentials,Ways To Shop,Household Es...</td>\n",
       "      <td>Procter &amp; Gamble</td>\n",
       "      <td>Tide Original Liquid Laundry Detergent - 100 Oz</td>\n",
       "      <td>2012-03-23T00:00:00.000Z</td>\n",
       "      <td>False</td>\n",
       "      <td>True</td>\n",
       "      <td>5</td>\n",
       "      <td>I got a free sample and used it today. So easy...</td>\n",
       "      <td>Love Tide Pods!</td>\n",
       "      <td>https://www.walmart.com/reviews/product/194062...</td>\n",
       "      <td>37000138822</td>\n",
       "    </tr>\n",
       "    <tr>\n",
       "      <th>51162</th>\n",
       "      <td>Tide</td>\n",
       "      <td>Household Essentials,Ways To Shop,Household Es...</td>\n",
       "      <td>Procter &amp; Gamble</td>\n",
       "      <td>Tide Original Liquid Laundry Detergent - 100 Oz</td>\n",
       "      <td>2012-06-09T00:00:00.000Z</td>\n",
       "      <td>False</td>\n",
       "      <td>True</td>\n",
       "      <td>5</td>\n",
       "      <td>I have a front load washer with a high dispens...</td>\n",
       "      <td>Even my Husband can't mess this up!</td>\n",
       "      <td>https://www.walmart.com/reviews/product/194062...</td>\n",
       "      <td>37000138822</td>\n",
       "    </tr>\n",
       "    <tr>\n",
       "      <th>51163</th>\n",
       "      <td>Tide</td>\n",
       "      <td>Household Essentials,Ways To Shop,Household Es...</td>\n",
       "      <td>Procter &amp; Gamble</td>\n",
       "      <td>Tide Original Liquid Laundry Detergent - 100 Oz</td>\n",
       "      <td>2011-05-26T00:00:00.000Z</td>\n",
       "      <td>False</td>\n",
       "      <td>True</td>\n",
       "      <td>5</td>\n",
       "      <td>Tide is the only detergent me and my whole fam...</td>\n",
       "      <td>LOVE MY TIDE!!!!!!!</td>\n",
       "      <td>https://www.walmart.com/reviews/product/194062...</td>\n",
       "      <td>37000138822</td>\n",
       "    </tr>\n",
       "    <tr>\n",
       "      <th>51164</th>\n",
       "      <td>Tide</td>\n",
       "      <td>Household Essentials,Ways To Shop,Household Es...</td>\n",
       "      <td>Procter &amp; Gamble</td>\n",
       "      <td>Tide Original Liquid Laundry Detergent - 100 Oz</td>\n",
       "      <td>2012-04-29T00:00:00.000Z</td>\n",
       "      <td>False</td>\n",
       "      <td>True</td>\n",
       "      <td>5</td>\n",
       "      <td>I think this is a perfect product for extremel...</td>\n",
       "      <td>Work Horse for Work Clothes</td>\n",
       "      <td>https://www.walmart.com/reviews/product/194062...</td>\n",
       "      <td>37000138822</td>\n",
       "    </tr>\n",
       "  </tbody>\n",
       "</table>\n",
       "<p>16420 rows × 12 columns</p>\n",
       "</div>"
      ],
      "text/plain": [
       "        brand                                         categories  \\\n",
       "6588   Clorox  Household Essentials,Cleaning Supplies,Kitchen...   \n",
       "6589   Clorox  Household Essentials,Cleaning Supplies,Kitchen...   \n",
       "6590   Clorox  Household Essentials,Cleaning Supplies,Kitchen...   \n",
       "6591   Clorox  Household Essentials,Cleaning Supplies,Kitchen...   \n",
       "6592   Clorox  Household Essentials,Cleaning Supplies,Kitchen...   \n",
       "...       ...                                                ...   \n",
       "51160    Tide  Household Essentials,Ways To Shop,Household Es...   \n",
       "51161    Tide  Household Essentials,Ways To Shop,Household Es...   \n",
       "51162    Tide  Household Essentials,Ways To Shop,Household Es...   \n",
       "51163    Tide  Household Essentials,Ways To Shop,Household Es...   \n",
       "51164    Tide  Household Essentials,Ways To Shop,Household Es...   \n",
       "\n",
       "           manufacturer                                               name  \\\n",
       "6588             Clorox  Clorox Disinfecting Wipes Value Pack Scented 1...   \n",
       "6589             Clorox  Clorox Disinfecting Wipes Value Pack Scented 1...   \n",
       "6590             Clorox  Clorox Disinfecting Wipes Value Pack Scented 1...   \n",
       "6591             Clorox  Clorox Disinfecting Wipes Value Pack Scented 1...   \n",
       "6592             Clorox  Clorox Disinfecting Wipes Value Pack Scented 1...   \n",
       "...                 ...                                                ...   \n",
       "51160  Procter & Gamble    Tide Original Liquid Laundry Detergent - 100 Oz   \n",
       "51161  Procter & Gamble    Tide Original Liquid Laundry Detergent - 100 Oz   \n",
       "51162  Procter & Gamble    Tide Original Liquid Laundry Detergent - 100 Oz   \n",
       "51163  Procter & Gamble    Tide Original Liquid Laundry Detergent - 100 Oz   \n",
       "51164  Procter & Gamble    Tide Original Liquid Laundry Detergent - 100 Oz   \n",
       "\n",
       "                    reviewsdate didPurchase doRecommend  reviewsrating  \\\n",
       "6588   2012-01-26T13:31:39.000Z        None        True              1   \n",
       "6589   2013-08-15T15:47:17.000Z        None        None              1   \n",
       "6590   2013-03-29T07:41:03.000Z        None        None              1   \n",
       "6591   2013-03-26T00:03:29.000Z        None        None              1   \n",
       "6592   2015-01-01T00:00:00.000Z       False        True              1   \n",
       "...                         ...         ...         ...            ...   \n",
       "51160  2009-07-09T00:00:00.000Z       False        True              5   \n",
       "51161  2012-03-23T00:00:00.000Z       False        True              5   \n",
       "51162  2012-06-09T00:00:00.000Z       False        True              5   \n",
       "51163  2011-05-26T00:00:00.000Z       False        True              5   \n",
       "51164  2012-04-29T00:00:00.000Z       False        True              5   \n",
       "\n",
       "                                             reviewstext  \\\n",
       "6588   This is an outstanding product, it not only cl...   \n",
       "6589   I have been an avid user of Clorox Wipes for m...   \n",
       "6590   I have used Clorox Wipes for years... Cannot l...   \n",
       "6591   I use Clorox wipes fanatically all over my hom...   \n",
       "6592   Being a mom of three, disinfecting the home ha...   \n",
       "...                                                  ...   \n",
       "51160  I* absolutely love tide2x with bleach alternat...   \n",
       "51161  I got a free sample and used it today. So easy...   \n",
       "51162  I have a front load washer with a high dispens...   \n",
       "51163  Tide is the only detergent me and my whole fam...   \n",
       "51164  I think this is a perfect product for extremel...   \n",
       "\n",
       "                              reviewstitle  \\\n",
       "6588                           Fresh Smell   \n",
       "6589                                 Smell   \n",
       "6590               Who Changed The Scent??   \n",
       "6591                    New Product Stinks   \n",
       "6592                             Germ free   \n",
       "...                                    ...   \n",
       "51160           tide 2x/bleach alternative   \n",
       "51161                      Love Tide Pods!   \n",
       "51162  Even my Husband can't mess this up!   \n",
       "51163                  LOVE MY TIDE!!!!!!!   \n",
       "51164          Work Horse for Work Clothes   \n",
       "\n",
       "                                                     URL          upc  \n",
       "6588   https://redsky.target.com/groot-domain-api/v1/...  44600015996  \n",
       "6589   https://redsky.target.com/groot-domain-api/v1/...  44600015996  \n",
       "6590   https://redsky.target.com/groot-domain-api/v1/...  44600015996  \n",
       "6591   https://redsky.target.com/groot-domain-api/v1/...  44600015996  \n",
       "6592   https://www.walmart.com/reviews/product/148983...  44600015996  \n",
       "...                                                  ...          ...  \n",
       "51160  https://www.walmart.com/reviews/product/194062...  37000138822  \n",
       "51161  https://www.walmart.com/reviews/product/194062...  37000138822  \n",
       "51162  https://www.walmart.com/reviews/product/194062...  37000138822  \n",
       "51163  https://www.walmart.com/reviews/product/194062...  37000138822  \n",
       "51164  https://www.walmart.com/reviews/product/194062...  37000138822  \n",
       "\n",
       "[16420 rows x 12 columns]"
      ]
     },
     "execution_count": 35,
     "metadata": {},
     "output_type": "execute_result"
    }
   ],
   "source": [
    "branddat= pandas_df[(pandas_df['brand']=='Clorox')|(pandas_df['brand']=='Lysol')|(pandas_df['brand']==\"Tide\")|(pandas_df['brand']==\"Lysol\")]\n",
    "# (pandas_df['brand']==\"L'Oreal Paris\")|  (pandas_df['brand']==\"L'oreal Paris\")| (pandas_df['brand']==\"Maybelline\")| \n",
    "branddat"
   ]
  },
  {
   "cell_type": "code",
   "execution_count": 37,
   "id": "258828a9",
   "metadata": {},
   "outputs": [
    {
     "data": {
      "text/plain": [
       "Clorox                10699\n",
       "Rubbermaid             1939\n",
       "Lemi Shine              423\n",
       "Hoover                  372\n",
       "Windex                  348\n",
       "Lysol                   336\n",
       "OxiClean                138\n",
       "Softsoap                 59\n",
       "Mrs. Meyer's             50\n",
       "Finish                   43\n",
       "Summer's Eve             36\n",
       "Meguiars                 36\n",
       "The Honest Company       33\n",
       "The Laundress             9\n",
       "SC Johnson                8\n",
       "Soft Scrub                8\n",
       "Biokleen                  8\n",
       "Era                       6\n",
       "Simple Green              4\n",
       "Hagerty                   2\n",
       "Citrus Magic              1\n",
       "Name: brand, dtype: int64"
      ]
     },
     "execution_count": 37,
     "metadata": {},
     "output_type": "execute_result"
    }
   ],
   "source": [
    "cleanhouse= pandas_df[pandas_df['categories'].str.contains('Cleaning')]\n",
    "cleanhouse['brand'].value_counts()\n"
   ]
  },
  {
   "cell_type": "code",
   "execution_count": 38,
   "id": "8282ac0d",
   "metadata": {},
   "outputs": [
    {
     "data": {
      "text/plain": [
       "Series([], Name: reviewsrating, dtype: int64)"
      ]
     },
     "execution_count": 38,
     "metadata": {},
     "output_type": "execute_result"
    }
   ],
   "source": [
    "onlyoxi=cleanhouse[cleanhouse['brand']=='']\n",
    "onlyoxi['reviewsrating'].value_counts()"
   ]
  },
  {
   "cell_type": "code",
   "execution_count": null,
   "id": "e37beff6",
   "metadata": {},
   "outputs": [],
   "source": []
  },
  {
   "cell_type": "code",
   "execution_count": 47,
   "id": "3f065d2f",
   "metadata": {
    "scrolled": true
   },
   "outputs": [
    {
     "data": {
      "text/plain": [
       "<matplotlib.legend.Legend at 0x7f837aa8cf10>"
      ]
     },
     "execution_count": 47,
     "metadata": {},
     "output_type": "execute_result"
    },
    {
     "data": {
      "image/png": "[encoded data removed]",
      "text/plain": [
       "<Figure size 720x360 with 1 Axes>"
      ]
     },
     "metadata": {
      "needs_background": "light"
     },
     "output_type": "display_data"
    }
   ],
   "source": [
    "onestar=np.array([.002710,.112184,0.068452])\n",
    "twostar=np.array([.001121,.032875,0.050595])\n",
    "threestar=np.array([.008131,.053306,0.074405])\n",
    "fourstar =np.array([.144112,.177935,0.056548])\n",
    "fivestar=np.array([.843925,.6237,.750000])\n",
    "\n",
    "labels = [\"Clorox\",'Tide','Lysol']\n",
    "width = .7\n",
    "\n",
    "fig,ax = plt.subplots(figsize = (10,5))\n",
    "\n",
    "ax.bar(labels,onestar,width,label = '1 Rating' )\n",
    "ax.bar(labels,twostar,width,label = '2 Rating', bottom=onestar,  color = 'crimson')\n",
    "ax.bar(labels,threestar,width,label = '3 Rating',bottom = onestar+twostar ,color= 'lime' )\n",
    "ax.bar(labels,fourstar,width,label = '4 Rating',bottom = onestar+twostar+threestar,color ='red')\n",
    "ax.bar(labels,fivestar,width,label = '5 Rating' ,bottom = onestar+twostar+threestar+fourstar,color = 'indigo')\n",
    "ax.set_ylabel('Rating Proportions')\n",
    "ax.legend()"
   ]
  },
  {
   "cell_type": "code",
   "execution_count": 57,
   "id": "ada02cd4",
   "metadata": {},
   "outputs": [
    {
     "data": {
      "text/plain": [
       "<matplotlib.legend.Legend at 0x7f83792c17f0>"
      ]
     },
     "execution_count": 57,
     "metadata": {},
     "output_type": "execute_result"
    },
    {
     "data": {
      "image/png": "[encoded data removed]",
      "text/plain": [
       "<Figure size 720x360 with 1 Axes>"
      ]
     },
     "metadata": {
      "needs_background": "light"
     },
     "output_type": "display_data"
    }
   ],
   "source": [
    "notverified=np.array([0.997025,0.983828,0.785075,0.76699,0.89939])\n",
    "isverified =np.array([0.002975,0.016172,0.214925,0.233,0.1006])\n",
    "\n",
    "\n",
    "labels = [\"Clorox\",'Tide','Lysol','Lemishine','Windex']\n",
    "width = .7\n",
    "\n",
    "fig,ax = plt.subplots(figsize = (10,5))\n",
    "\n",
    "ax.bar(labels,notverified,width,label = 'Unverified' )\n",
    "ax.bar(labels,isverified,width,label = 'Verified', bottom=notverified,  color = 'limegreen')\n",
    "\n",
    "\n",
    "\n",
    "ax.set_ylabel('Rating Proportions')\n",
    "ax.legend(loc = 'lower right')"
   ]
  },
  {
   "cell_type": "code",
   "execution_count": 77,
   "id": "f4ca49f7",
   "metadata": {},
   "outputs": [
    {
     "ename": "SyntaxError",
     "evalue": "invalid syntax (<ipython-input-77-38f13440a264>, line 17)",
     "output_type": "error",
     "traceback": [
      "\u001b[0;36m  File \u001b[0;32m\"<ipython-input-77-38f13440a264>\"\u001b[0;36m, line \u001b[0;32m17\u001b[0m\n\u001b[0;31m    input2= clorfalse/\u001b[0m\n\u001b[0m                      ^\u001b[0m\n\u001b[0;31mSyntaxError\u001b[0m\u001b[0;31m:\u001b[0m invalid syntax\n"
     ]
    }
   ],
   "source": [
    "import scipy.stats as stats\n",
    "lys = cleanhouse[cleanhouse['brand']=='Lysol']\n",
    "tid = cleanhouse[cleanhouse['brand']=='Tide']\n",
    "clor = cleanhouse[cleanhouse['brand']=='Clorox']\n",
    "wind = cleanhouse[cleanhouse['brand']=='Windex']\n",
    "lemi = cleanhouse[cleanhouse['brand']=='Lemi Shine']\n",
    "household = branddat['reviewsrating']\n",
    "\n",
    "\n",
    "\n",
    "clorfalse= clor['didPurchase'].value_counts()[0]\n",
    "clortrue=clor['didPurchase'].value_counts()[1]\n",
    "\n",
    "#\n",
    "\n",
    "# stats.ttest_ind("
   ]
  },
  {
   "cell_type": "code",
   "execution_count": 78,
   "id": "f366222e",
   "metadata": {},
   "outputs": [],
   "source": [
    "#proportion of unerified / total clor\n",
    "clor_prob = 8378/8403"
   ]
  },
  {
   "cell_type": "code",
   "execution_count": 127,
   "id": "4dc17008",
   "metadata": {},
   "outputs": [
    {
     "name": "stdout",
     "output_type": "stream",
     "text": [
      "0.000\n"
     ]
    },
    {
     "data": {
      "text/plain": [
       "(7.765887516998513, 8.107548061810132e-15)"
      ]
     },
     "execution_count": 127,
     "metadata": {},
     "output_type": "execute_result"
    }
   ],
   "source": [
    "#proportion of unverified / total tide\n",
    "tide_prob = 2981/3030\n",
    "\n",
    "count = np.array([8378, 2981])\n",
    "nobs = np.array([8403, 3030])\n",
    "stat, pval = proportions_ztest(count, nobs)\n",
    "print('{0:.3f}'.format(pval))\n",
    "proportions_ztest(count, nobs, value=None, alternative='two-sided', prop_var=False)\n"
   ]
  },
  {
   "cell_type": "code",
   "execution_count": 116,
   "id": "a3c910a1",
   "metadata": {},
   "outputs": [
    {
     "name": "stdout",
     "output_type": "stream",
     "text": [
      "0.000\n"
     ]
    },
    {
     "data": {
      "text/plain": [
       "(22.775360904137898, 8.047522388412586e-115)"
      ]
     },
     "execution_count": 116,
     "metadata": {},
     "output_type": "execute_result"
    }
   ],
   "source": [
    "#proportion of unverified / total lysol\n",
    "lys_prob = 246/278\n",
    "\n",
    "count = np.array([8378, 246])\n",
    "nobs = np.array([8403, 278])\n",
    "stat, pval = proportions_ztest(count, nobs)\n",
    "print('{0:0.3f}'.format(pval))\n",
    "proportions_ztest(count, nobs, value=None, alternative='two-sided', prop_var=False)\n"
   ]
  },
  {
   "cell_type": "code",
   "execution_count": 117,
   "id": "b7b11a38",
   "metadata": {},
   "outputs": [
    {
     "name": "stdout",
     "output_type": "stream",
     "text": [
      "0.000\n"
     ]
    },
    {
     "data": {
      "text/plain": [
       "(21.35459328631881, 3.5343449218078286e-101)"
      ]
     },
     "execution_count": 117,
     "metadata": {},
     "output_type": "execute_result"
    }
   ],
   "source": [
    "#proportion of unverified / total windex\n",
    "wind_prob = 295/328\n",
    "\n",
    "count = np.array([8378, 295])\n",
    "nobs = np.array([8403, 328])\n",
    "stat, pval = proportions_ztest(count, nobs)\n",
    "print('{0:0.3f}'.format(pval))\n",
    "proportions_ztest(count, nobs, value=None, alternative='two-sided', prop_var=False)\n"
   ]
  },
  {
   "cell_type": "code",
   "execution_count": 118,
   "id": "31752931",
   "metadata": {},
   "outputs": [
    {
     "name": "stdout",
     "output_type": "stream",
     "text": [
      "0.000\n"
     ]
    },
    {
     "data": {
      "text/plain": [
       "(30.66093580566053, 1.8892789704636103e-206)"
      ]
     },
     "execution_count": 118,
     "metadata": {},
     "output_type": "execute_result"
    }
   ],
   "source": [
    "#proportion of unverified / total lemi\n",
    "lemi_prob = 79/103\n",
    "\n",
    "count = np.array([8378, 79])\n",
    "nobs = np.array([8403, 103])\n",
    "stat, pval = proportions_ztest(count, nobs)\n",
    "print('{0:0.3f}'.format(pval))\n",
    "proportions_ztest(count, nobs, value=None, alternative='two-sided', prop_var=False)\n"
   ]
  },
  {
   "cell_type": "code",
   "execution_count": 126,
   "id": "96c0f4da",
   "metadata": {},
   "outputs": [
    {
     "data": {
      "text/plain": [
       "(array([ True,  True,  True,  True]),\n",
       " array([3.24301922e-014, 3.21900896e-114, 1.41373797e-100, 1.41373797e-100]),\n",
       " 0.012741455098566168,\n",
       " 0.0125)"
      ]
     },
     "execution_count": 126,
     "metadata": {},
     "output_type": "execute_result"
    }
   ],
   "source": [
    "import statsmodels.stats.multitest \n",
    "pvals=[8.107548061810132e-15,8.047522388412586e-115,3.5343449218078286e-101,3.5343449218078286e-101]\n",
    "statsmodels.stats.multitest.multipletests(pvals,alpha=.05,method='bonferroni')"
   ]
  },
  {
   "cell_type": "code",
   "execution_count": 128,
   "id": "78067cfc",
   "metadata": {},
   "outputs": [
    {
     "ename": "NameError",
     "evalue": "name 'high_verify' is not defined",
     "output_type": "error",
     "traceback": [
      "\u001b[0;31m---------------------------------------------------------------------------\u001b[0m",
      "\u001b[0;31mNameError\u001b[0m                                 Traceback (most recent call last)",
      "\u001b[0;32m<ipython-input-128-8efe2deb3ede>\u001b[0m in \u001b[0;36m<module>\u001b[0;34m\u001b[0m\n\u001b[0;32m----> 1\u001b[0;31m \u001b[0mhigh_verify\u001b[0m\u001b[0;34m[\u001b[0m\u001b[0;34m'reviewstitle'\u001b[0m\u001b[0;34m]\u001b[0m\u001b[0;34m.\u001b[0m\u001b[0mvalue_counts\u001b[0m\u001b[0;34m(\u001b[0m\u001b[0;34m)\u001b[0m\u001b[0;34m.\u001b[0m\u001b[0mhead\u001b[0m\u001b[0;34m(\u001b[0m\u001b[0;36m10\u001b[0m\u001b[0;34m)\u001b[0m\u001b[0;34m\u001b[0m\u001b[0;34m\u001b[0m\u001b[0m\n\u001b[0m",
      "\u001b[0;31mNameError\u001b[0m: name 'high_verify' is not defined"
     ]
    }
   ],
   "source": [
    "high_verify['reviewstitle'].value_counts().head(10)"
   ]
  },
  {
   "cell_type": "code",
   "execution_count": 129,
   "id": "fd8526f8",
   "metadata": {},
   "outputs": [
    {
     "data": {
      "text/plain": [
       "<AxesSubplot:>"
      ]
     },
     "execution_count": 129,
     "metadata": {},
     "output_type": "execute_result"
    },
    {
     "data": {
      "image/png": "[encoded data removed]",
      "text/plain": [
       "<Figure size 432x288 with 1 Axes>"
      ]
     },
     "metadata": {
      "needs_background": "light"
     },
     "output_type": "display_data"
    }
   ],
   "source": [
    "pandas_df['reviewsrating'].value_counts().plot.barh()"
   ]
  },
  {
   "cell_type": "code",
   "execution_count": 130,
   "id": "3feb55fe",
   "metadata": {},
   "outputs": [
    {
     "data": {
      "text/plain": [
       "<AxesSubplot:>"
      ]
     },
     "execution_count": 130,
     "metadata": {},
     "output_type": "execute_result"
    },
    {
     "data": {
      "image/png": "[encoded data removed]",
      "text/plain": [
       "<Figure size 432x288 with 1 Axes>"
      ]
     },
     "metadata": {
      "needs_background": "light"
     },
     "output_type": "display_data"
    }
   ],
   "source": [
    "beatclean= branddat['brand']\n",
    "branddat['reviewsrating'].value_counts().plot.barh()"
   ]
  },
  {
   "cell_type": "code",
   "execution_count": 131,
   "id": "626d67c0",
   "metadata": {},
   "outputs": [
    {
     "data": {
      "text/html": [
       "<div>\n",
       "<style scoped>\n",
       "    .dataframe tbody tr th:only-of-type {\n",
       "        vertical-align: middle;\n",
       "    }\n",
       "\n",
       "    .dataframe tbody tr th {\n",
       "        vertical-align: top;\n",
       "    }\n",
       "\n",
       "    .dataframe thead th {\n",
       "        text-align: right;\n",
       "    }\n",
       "</style>\n",
       "<table border=\"1\" class=\"dataframe\">\n",
       "  <thead>\n",
       "    <tr style=\"text-align: right;\">\n",
       "      <th></th>\n",
       "      <th>brand</th>\n",
       "      <th>categories</th>\n",
       "      <th>manufacturer</th>\n",
       "      <th>name</th>\n",
       "      <th>reviewsdate</th>\n",
       "      <th>didPurchase</th>\n",
       "      <th>doRecommend</th>\n",
       "      <th>reviewsrating</th>\n",
       "      <th>reviewstext</th>\n",
       "      <th>reviewstitle</th>\n",
       "      <th>URL</th>\n",
       "      <th>upc</th>\n",
       "    </tr>\n",
       "  </thead>\n",
       "  <tbody>\n",
       "    <tr>\n",
       "      <th>3</th>\n",
       "      <td>K-Y</td>\n",
       "      <td>Personal Care,Medicine Cabinet,Lubricant/Sperm...</td>\n",
       "      <td>K-Y</td>\n",
       "      <td>K-Y Love Sensuality Pleasure Gel</td>\n",
       "      <td>2016-01-06T00:00:00.000Z</td>\n",
       "      <td>False</td>\n",
       "      <td>False</td>\n",
       "      <td>1</td>\n",
       "      <td>I read through the reviews on here before look...</td>\n",
       "      <td>Disappointed</td>\n",
       "      <td>https://www.walmart.com/reviews/product/43383370</td>\n",
       "      <td>67981934427</td>\n",
       "    </tr>\n",
       "    <tr>\n",
       "      <th>4</th>\n",
       "      <td>K-Y</td>\n",
       "      <td>Personal Care,Medicine Cabinet,Lubricant/Sperm...</td>\n",
       "      <td>K-Y</td>\n",
       "      <td>K-Y Love Sensuality Pleasure Gel</td>\n",
       "      <td>2016-12-21T00:00:00.000Z</td>\n",
       "      <td>False</td>\n",
       "      <td>False</td>\n",
       "      <td>1</td>\n",
       "      <td>My husband bought this gel for us. The gel cau...</td>\n",
       "      <td>Irritation</td>\n",
       "      <td>https://www.walmart.com/reviews/product/43383370</td>\n",
       "      <td>67981934427</td>\n",
       "    </tr>\n",
       "    <tr>\n",
       "      <th>5</th>\n",
       "      <td>K-Y</td>\n",
       "      <td>Personal Care,Medicine Cabinet,Lubricant/Sperm...</td>\n",
       "      <td>K-Y</td>\n",
       "      <td>K-Y Love Sensuality Pleasure Gel</td>\n",
       "      <td>2016-04-20T00:00:00.000Z</td>\n",
       "      <td>False</td>\n",
       "      <td>False</td>\n",
       "      <td>1</td>\n",
       "      <td>My boyfriend and I bought this to spice things...</td>\n",
       "      <td>Not worth it</td>\n",
       "      <td>https://www.walmart.com/reviews/product/43383370</td>\n",
       "      <td>67981934427</td>\n",
       "    </tr>\n",
       "    <tr>\n",
       "      <th>6</th>\n",
       "      <td>K-Y</td>\n",
       "      <td>Personal Care,Medicine Cabinet,Lubricant/Sperm...</td>\n",
       "      <td>K-Y</td>\n",
       "      <td>K-Y Love Sensuality Pleasure Gel</td>\n",
       "      <td>2016-02-08T00:00:00.000Z</td>\n",
       "      <td>False</td>\n",
       "      <td>False</td>\n",
       "      <td>1</td>\n",
       "      <td>Bought this earlier today and was excited to c...</td>\n",
       "      <td>Disappointing</td>\n",
       "      <td>https://www.walmart.com/reviews/product/43383370</td>\n",
       "      <td>67981934427</td>\n",
       "    </tr>\n",
       "    <tr>\n",
       "      <th>7</th>\n",
       "      <td>K-Y</td>\n",
       "      <td>Personal Care,Medicine Cabinet,Lubricant/Sperm...</td>\n",
       "      <td>K-Y</td>\n",
       "      <td>K-Y Love Sensuality Pleasure Gel</td>\n",
       "      <td>2016-02-21T00:00:00.000Z</td>\n",
       "      <td>False</td>\n",
       "      <td>False</td>\n",
       "      <td>1</td>\n",
       "      <td>I bought this product for my husband and I to ...</td>\n",
       "      <td>Not happy at all</td>\n",
       "      <td>https://www.walmart.com/reviews/product/43383370</td>\n",
       "      <td>67981934427</td>\n",
       "    </tr>\n",
       "    <tr>\n",
       "      <th>...</th>\n",
       "      <td>...</td>\n",
       "      <td>...</td>\n",
       "      <td>...</td>\n",
       "      <td>...</td>\n",
       "      <td>...</td>\n",
       "      <td>...</td>\n",
       "      <td>...</td>\n",
       "      <td>...</td>\n",
       "      <td>...</td>\n",
       "      <td>...</td>\n",
       "      <td>...</td>\n",
       "      <td>...</td>\n",
       "    </tr>\n",
       "    <tr>\n",
       "      <th>71037</th>\n",
       "      <td>Opti-Free</td>\n",
       "      <td>Personal Care,Eye &amp; Ear Care,Eye Care,Contact ...</td>\n",
       "      <td>Opti-Free</td>\n",
       "      <td>Opti-Free Puremoist Disinfecting Solution 10fl Oz</td>\n",
       "      <td>2015-10-14T00:00:00.000Z</td>\n",
       "      <td>False</td>\n",
       "      <td>True</td>\n",
       "      <td>5</td>\n",
       "      <td>Great item</td>\n",
       "      <td>Great</td>\n",
       "      <td>https://www.walmart.com/reviews/product/10294232</td>\n",
       "      <td>300650361040,631113253665,300650193108,3006503...</td>\n",
       "    </tr>\n",
       "    <tr>\n",
       "      <th>71038</th>\n",
       "      <td>Opti-Free</td>\n",
       "      <td>Personal Care,Eye &amp; Ear Care,Eye Care,Contact ...</td>\n",
       "      <td>Opti-Free</td>\n",
       "      <td>Opti-Free Puremoist Disinfecting Solution 10fl Oz</td>\n",
       "      <td>2010-07-17T00:00:00.000Z</td>\n",
       "      <td>False</td>\n",
       "      <td>True</td>\n",
       "      <td>5</td>\n",
       "      <td>Since I've starting wearing my contacts full-t...</td>\n",
       "      <td>Worth every penny.</td>\n",
       "      <td>https://www.walmart.com/reviews/product/10294231</td>\n",
       "      <td>300650361040,631113253665,300650193108,3006503...</td>\n",
       "    </tr>\n",
       "    <tr>\n",
       "      <th>71039</th>\n",
       "      <td>Opti-Free</td>\n",
       "      <td>Personal Care,Eye &amp; Ear Care,Eye Care,Contact ...</td>\n",
       "      <td>Opti-Free</td>\n",
       "      <td>Opti-Free Puremoist Disinfecting Solution 10fl Oz</td>\n",
       "      <td>2012-03-25T00:00:00.000Z</td>\n",
       "      <td>False</td>\n",
       "      <td>True</td>\n",
       "      <td>5</td>\n",
       "      <td>I'm dealing with dry eyes and very sensitive t...</td>\n",
       "      <td>Solves the problem</td>\n",
       "      <td>https://www.walmart.com/reviews/product/10294231</td>\n",
       "      <td>300650361040,631113253665,300650193108,3006503...</td>\n",
       "    </tr>\n",
       "    <tr>\n",
       "      <th>71040</th>\n",
       "      <td>Opti-Free</td>\n",
       "      <td>Personal Care,Eye &amp; Ear Care,Eye Care,Contact ...</td>\n",
       "      <td>Opti-Free</td>\n",
       "      <td>Opti-Free Puremoist Disinfecting Solution 10fl Oz</td>\n",
       "      <td>2015-12-07T00:00:00.000Z</td>\n",
       "      <td>False</td>\n",
       "      <td>True</td>\n",
       "      <td>5</td>\n",
       "      <td>Great stuff! Helps keep my contacts moist all ...</td>\n",
       "      <td>Great stuff!</td>\n",
       "      <td>https://www.walmart.com/reviews/product/10294231</td>\n",
       "      <td>300650361040,631113253665,300650193108,3006503...</td>\n",
       "    </tr>\n",
       "    <tr>\n",
       "      <th>71041</th>\n",
       "      <td>Opti-Free</td>\n",
       "      <td>Personal Care,Eye &amp; Ear Care,Eye Care,Contact ...</td>\n",
       "      <td>Opti-Free</td>\n",
       "      <td>Opti-Free Puremoist Disinfecting Solution 10fl Oz</td>\n",
       "      <td>2015-07-23T00:00:00.000Z</td>\n",
       "      <td>False</td>\n",
       "      <td>True</td>\n",
       "      <td>5</td>\n",
       "      <td>Right price</td>\n",
       "      <td>My review</td>\n",
       "      <td>https://www.walmart.com/reviews/product/10294231</td>\n",
       "      <td>300650361040,631113253665,300650193108,3006503...</td>\n",
       "    </tr>\n",
       "  </tbody>\n",
       "</table>\n",
       "<p>28476 rows × 12 columns</p>\n",
       "</div>"
      ],
      "text/plain": [
       "           brand                                         categories  \\\n",
       "3            K-Y  Personal Care,Medicine Cabinet,Lubricant/Sperm...   \n",
       "4            K-Y  Personal Care,Medicine Cabinet,Lubricant/Sperm...   \n",
       "5            K-Y  Personal Care,Medicine Cabinet,Lubricant/Sperm...   \n",
       "6            K-Y  Personal Care,Medicine Cabinet,Lubricant/Sperm...   \n",
       "7            K-Y  Personal Care,Medicine Cabinet,Lubricant/Sperm...   \n",
       "...          ...                                                ...   \n",
       "71037  Opti-Free  Personal Care,Eye & Ear Care,Eye Care,Contact ...   \n",
       "71038  Opti-Free  Personal Care,Eye & Ear Care,Eye Care,Contact ...   \n",
       "71039  Opti-Free  Personal Care,Eye & Ear Care,Eye Care,Contact ...   \n",
       "71040  Opti-Free  Personal Care,Eye & Ear Care,Eye Care,Contact ...   \n",
       "71041  Opti-Free  Personal Care,Eye & Ear Care,Eye Care,Contact ...   \n",
       "\n",
       "      manufacturer                                               name  \\\n",
       "3              K-Y                   K-Y Love Sensuality Pleasure Gel   \n",
       "4              K-Y                   K-Y Love Sensuality Pleasure Gel   \n",
       "5              K-Y                   K-Y Love Sensuality Pleasure Gel   \n",
       "6              K-Y                   K-Y Love Sensuality Pleasure Gel   \n",
       "7              K-Y                   K-Y Love Sensuality Pleasure Gel   \n",
       "...            ...                                                ...   \n",
       "71037    Opti-Free  Opti-Free Puremoist Disinfecting Solution 10fl Oz   \n",
       "71038    Opti-Free  Opti-Free Puremoist Disinfecting Solution 10fl Oz   \n",
       "71039    Opti-Free  Opti-Free Puremoist Disinfecting Solution 10fl Oz   \n",
       "71040    Opti-Free  Opti-Free Puremoist Disinfecting Solution 10fl Oz   \n",
       "71041    Opti-Free  Opti-Free Puremoist Disinfecting Solution 10fl Oz   \n",
       "\n",
       "                    reviewsdate didPurchase doRecommend  reviewsrating  \\\n",
       "3      2016-01-06T00:00:00.000Z       False       False              1   \n",
       "4      2016-12-21T00:00:00.000Z       False       False              1   \n",
       "5      2016-04-20T00:00:00.000Z       False       False              1   \n",
       "6      2016-02-08T00:00:00.000Z       False       False              1   \n",
       "7      2016-02-21T00:00:00.000Z       False       False              1   \n",
       "...                         ...         ...         ...            ...   \n",
       "71037  2015-10-14T00:00:00.000Z       False        True              5   \n",
       "71038  2010-07-17T00:00:00.000Z       False        True              5   \n",
       "71039  2012-03-25T00:00:00.000Z       False        True              5   \n",
       "71040  2015-12-07T00:00:00.000Z       False        True              5   \n",
       "71041  2015-07-23T00:00:00.000Z       False        True              5   \n",
       "\n",
       "                                             reviewstext        reviewstitle  \\\n",
       "3      I read through the reviews on here before look...        Disappointed   \n",
       "4      My husband bought this gel for us. The gel cau...          Irritation   \n",
       "5      My boyfriend and I bought this to spice things...        Not worth it   \n",
       "6      Bought this earlier today and was excited to c...       Disappointing   \n",
       "7      I bought this product for my husband and I to ...    Not happy at all   \n",
       "...                                                  ...                 ...   \n",
       "71037                                         Great item               Great   \n",
       "71038  Since I've starting wearing my contacts full-t...  Worth every penny.   \n",
       "71039  I'm dealing with dry eyes and very sensitive t...  Solves the problem   \n",
       "71040  Great stuff! Helps keep my contacts moist all ...        Great stuff!   \n",
       "71041                                        Right price           My review   \n",
       "\n",
       "                                                    URL  \\\n",
       "3      https://www.walmart.com/reviews/product/43383370   \n",
       "4      https://www.walmart.com/reviews/product/43383370   \n",
       "5      https://www.walmart.com/reviews/product/43383370   \n",
       "6      https://www.walmart.com/reviews/product/43383370   \n",
       "7      https://www.walmart.com/reviews/product/43383370   \n",
       "...                                                 ...   \n",
       "71037  https://www.walmart.com/reviews/product/10294232   \n",
       "71038  https://www.walmart.com/reviews/product/10294231   \n",
       "71039  https://www.walmart.com/reviews/product/10294231   \n",
       "71040  https://www.walmart.com/reviews/product/10294231   \n",
       "71041  https://www.walmart.com/reviews/product/10294231   \n",
       "\n",
       "                                                     upc  \n",
       "3                                            67981934427  \n",
       "4                                            67981934427  \n",
       "5                                            67981934427  \n",
       "6                                            67981934427  \n",
       "7                                            67981934427  \n",
       "...                                                  ...  \n",
       "71037  300650361040,631113253665,300650193108,3006503...  \n",
       "71038  300650361040,631113253665,300650193108,3006503...  \n",
       "71039  300650361040,631113253665,300650193108,3006503...  \n",
       "71040  300650361040,631113253665,300650193108,3006503...  \n",
       "71041  300650361040,631113253665,300650193108,3006503...  \n",
       "\n",
       "[28476 rows x 12 columns]"
      ]
     },
     "execution_count": 131,
     "metadata": {},
     "output_type": "execute_result"
    }
   ],
   "source": [
    "nverifieddf = pandas_df[pandas_df['didPurchase']==False]\n",
    "nverifieddf"
   ]
  },
  {
   "cell_type": "code",
   "execution_count": 132,
   "id": "fcf74feb",
   "metadata": {},
   "outputs": [
    {
     "ename": "NameError",
     "evalue": "name 'verifieddf' is not defined",
     "output_type": "error",
     "traceback": [
      "\u001b[0;31m---------------------------------------------------------------------------\u001b[0m",
      "\u001b[0;31mNameError\u001b[0m                                 Traceback (most recent call last)",
      "\u001b[0;32m<ipython-input-132-7ded52835c11>\u001b[0m in \u001b[0;36m<module>\u001b[0;34m\u001b[0m\n\u001b[0;32m----> 1\u001b[0;31m \u001b[0mverify\u001b[0m\u001b[0;34m=\u001b[0m \u001b[0mverifieddf\u001b[0m\u001b[0;34m[\u001b[0m\u001b[0;34m'brand'\u001b[0m\u001b[0;34m]\u001b[0m\u001b[0;34m.\u001b[0m\u001b[0mvalue_counts\u001b[0m\u001b[0;34m(\u001b[0m\u001b[0;36m100\u001b[0m\u001b[0;34m)\u001b[0m\u001b[0;34m.\u001b[0m\u001b[0mhead\u001b[0m\u001b[0;34m(\u001b[0m\u001b[0;36m10\u001b[0m\u001b[0;34m)\u001b[0m\u001b[0;34m\u001b[0m\u001b[0;34m\u001b[0m\u001b[0m\n\u001b[0m\u001b[1;32m      2\u001b[0m \u001b[0mnverify\u001b[0m \u001b[0;34m=\u001b[0m \u001b[0mnverifieddf\u001b[0m\u001b[0;34m[\u001b[0m\u001b[0;34m'brand'\u001b[0m\u001b[0;34m]\u001b[0m\u001b[0;34m.\u001b[0m\u001b[0mvalue_counts\u001b[0m\u001b[0;34m(\u001b[0m\u001b[0;36m100\u001b[0m\u001b[0;34m)\u001b[0m\u001b[0;34m.\u001b[0m\u001b[0mhead\u001b[0m\u001b[0;34m(\u001b[0m\u001b[0;36m10\u001b[0m\u001b[0;34m)\u001b[0m\u001b[0;34m\u001b[0m\u001b[0;34m\u001b[0m\u001b[0m\n\u001b[1;32m      3\u001b[0m \u001b[0mfig\u001b[0m\u001b[0;34m,\u001b[0m\u001b[0max\u001b[0m \u001b[0;34m=\u001b[0m \u001b[0mplt\u001b[0m\u001b[0;34m.\u001b[0m\u001b[0msubplots\u001b[0m\u001b[0;34m(\u001b[0m \u001b[0mfigsize\u001b[0m \u001b[0;34m=\u001b[0m\u001b[0;34m(\u001b[0m\u001b[0;36m20\u001b[0m\u001b[0;34m,\u001b[0m\u001b[0;36m20\u001b[0m\u001b[0;34m)\u001b[0m\u001b[0;34m)\u001b[0m\u001b[0;34m\u001b[0m\u001b[0;34m\u001b[0m\u001b[0m\n\u001b[1;32m      4\u001b[0m \u001b[0;34m\u001b[0m\u001b[0m\n\u001b[1;32m      5\u001b[0m \u001b[0;34m\u001b[0m\u001b[0m\n",
      "\u001b[0;31mNameError\u001b[0m: name 'verifieddf' is not defined"
     ]
    }
   ],
   "source": [
    "verify= verifieddf['brand'].value_counts(100).head(10)\n",
    "nverify = nverifieddf['brand'].value_counts(100).head(10)\n",
    "fig,ax = plt.subplots( figsize =(20,20))\n",
    "\n",
    "\n",
    "plt.subplot(2,2,1)\n",
    "ax2 = nverifieddf['brand'].value_counts().head(10).plot.barh(color = 'red')\n",
    "ax2.set_title(\"Unverified Reviews\")\n",
    "ax2.set_xlabel(\"Review Count\")\n",
    "ax2.set_xlim()\n",
    "for i, v in enumerate(nverify):\n",
    "    ax2.text(v + 200, i, f'{str(round(v*100,2))}%', color='black', weight= 'bold' )\n",
    "    \n",
    "plt.subplot(2,2,2)\n",
    "ax3 = verifieddf['brand'].value_counts().head(10).plot.barh(color = 'green')\n",
    "ax3.set_title(\"Verified Reviews\")\n",
    "ax3.set_xlabel(\"Review Count\")\n",
    "ax3.set_xlim()\n",
    "for i, v in enumerate(verify):\n",
    "    ax3.text(v + 15, i, f'{str(round(v*100,2))}%', color='black',weight = 'bold' )\n",
    "\n",
    "fig.suptitle('Verified vs Unverified Top 10',y =.51)   \n",
    "plt.tight_layout\n",
    "\n",
    "plt.figure\n"
   ]
  },
  {
   "cell_type": "code",
   "execution_count": 147,
   "id": "ce1f3f10",
   "metadata": {},
   "outputs": [
    {
     "data": {
      "text/plain": [
       "Text(0.5, 0, 'Number of Reviews')"
      ]
     },
     "execution_count": 147,
     "metadata": {},
     "output_type": "execute_result"
    },
    {
     "data": {
      "image/png": "[encoded data removed]",
      "text/plain": [
       "<Figure size 720x360 with 1 Axes>"
      ]
     },
     "metadata": {
      "needs_background": "light"
     },
     "output_type": "display_data"
    }
   ],
   "source": [
    "totalpercent= pandas_df['brand'].value_counts(100).head(10)\n",
    "\n",
    "fix, ax = plt.subplots(figsize =(10,5))\n",
    "ax1 = pandas_df['brand'].value_counts().head(10).plot.barh(color = 'dodgerblue')\n",
    "ax1.set_title('Total Reviews')\n",
    "ax1.set_xlim()\n",
    "for i, v in enumerate(totalpercent):\n",
    "    ax1.text(v + 100, i-.1, f'{str(round(v*100,2))}%', color='black' )\n",
    "ax1.set_xlabel('Number of Reviews')\n",
    "# ax1.annotate()"
   ]
  },
  {
   "cell_type": "code",
   "execution_count": null,
   "id": "26f4b3a5",
   "metadata": {},
   "outputs": [],
   "source": [
    "pandas_df['brand'].value_counts()\n"
   ]
  },
  {
   "cell_type": "code",
   "execution_count": null,
   "id": "8e2ea59e",
   "metadata": {},
   "outputs": [],
   "source": [
    "clordf = pandas_df[pandas_df['brand']==\"Clorox\"]\n",
    "clordf\n",
    "\n",
    "fig,ax = plt.subplots(figsize = (10,5))\n",
    "\n",
    "ax.hist(clordf['reviewsrating'],bins = np.linspace(0,5),color = 'red')\n",
    "\n",
    "ax.set_xlabel('Review Rating')\n",
    "ax.set_ylabel('No. Reviews')\n",
    "ax.set_title('Clorox Rating Totals')\n"
   ]
  },
  {
   "cell_type": "code",
   "execution_count": null,
   "id": "7333ffb2",
   "metadata": {},
   "outputs": [],
   "source": [
    "\n",
    "\n",
    "fig,ax = plt.subplots(figsize = (10,5))\n",
    "\n",
    "ax.hist(lysol['reviewsrating'],bins = np.linspace(0,5),color = 'green')\n",
    "\n",
    "ax.set_xlabel('Review Rating')\n",
    "ax.set_ylabel('No. Reviews')\n",
    "ax.set_title('Lysol Rating Totals')\n"
   ]
  },
  {
   "cell_type": "code",
   "execution_count": null,
   "id": "49715d54",
   "metadata": {},
   "outputs": [],
   "source": [
    "len(tide[tide['didPurchase'] == True])"
   ]
  },
  {
   "cell_type": "code",
   "execution_count": null,
   "id": "7cbee0b7",
   "metadata": {},
   "outputs": [],
   "source": [
    "\n",
    "\n",
    "fig,ax = plt.subplots(figsize = (10,5))\n",
    "\n",
    "ax.hist(tide['reviewsrating'],bins = np.linspace(0,5),color = 'orange')\n",
    "\n",
    "ax.set_xlabel('Review Rating')\n",
    "ax.set_ylabel('No. Reviews')\n",
    "ax.set_title('Tide Rating Totals')\n"
   ]
  },
  {
   "cell_type": "code",
   "execution_count": null,
   "id": "ba2ca9f4",
   "metadata": {},
   "outputs": [],
   "source": [
    "clordf['upc'].value_counts()\n"
   ]
  },
  {
   "cell_type": "code",
   "execution_count": null,
   "id": "3750b5e8",
   "metadata": {},
   "outputs": [],
   "source": [
    "olay=pandas_df[pandas_df['brand']==\"Olay\"]\n",
    "olay['upc'].value_counts()"
   ]
  },
  {
   "cell_type": "code",
   "execution_count": null,
   "id": "c8a50704",
   "metadata": {},
   "outputs": [],
   "source": [
    "lysol=pandas_df[pandas_df[\"brand\"]=='Lysol']\n",
    "lysol['upc'].value_counts()"
   ]
  },
  {
   "cell_type": "code",
   "execution_count": null,
   "id": "a3533cb9",
   "metadata": {},
   "outputs": [],
   "source": [
    "lysol['upc'].value_counts(100)"
   ]
  },
  {
   "cell_type": "code",
   "execution_count": null,
   "id": "4a530aff",
   "metadata": {},
   "outputs": [],
   "source": [
    "pandas_df['didPurchase'].value_counts()"
   ]
  },
  {
   "cell_type": "code",
   "execution_count": null,
   "id": "742a5f77",
   "metadata": {},
   "outputs": [],
   "source": [
    "tide = pandas_df[pandas_df['brand']== 'Tide']\n",
    "tide['upc'].value_counts()"
   ]
  },
  {
   "cell_type": "code",
   "execution_count": null,
   "id": "e6f6afdb",
   "metadata": {
    "scrolled": true
   },
   "outputs": [],
   "source": [
    "loreal1=pandas_df[pandas_df[\"brand\"]== \"L'Oreal Paris\" ]\n",
    "\n",
    "loreal2= pandas_df[pandas_df[\"brand\"]== \"L'oreal Paris\"]\n",
    "loreal=loreal1.append(loreal2)\n",
    "loreal['upc'].value_counts()"
   ]
  },
  {
   "cell_type": "code",
   "execution_count": null,
   "id": "79c84603",
   "metadata": {},
   "outputs": [],
   "source": [
    "maybel = pandas_df[pandas_df['brand']=='Maybelline']\n",
    "maybel['upc'].value_counts()"
   ]
  },
  {
   "cell_type": "code",
   "execution_count": null,
   "id": "b6bc3b1e",
   "metadata": {},
   "outputs": [],
   "source": [
    "verifieddf['reviewsrating'].value_counts()"
   ]
  },
  {
   "cell_type": "code",
   "execution_count": null,
   "id": "abfec006",
   "metadata": {},
   "outputs": [],
   "source": [
    "nverifieddf['brand'].value_counts().head(20)\n"
   ]
  },
  {
   "cell_type": "code",
   "execution_count": null,
   "id": "03c4efdb",
   "metadata": {},
   "outputs": [],
   "source": [
    "high_unverified= nverifieddf[nverifieddf['reviewsrating']>3]\n",
    "nverifieddf['brand'].value_counts()"
   ]
  },
  {
   "cell_type": "code",
   "execution_count": null,
   "id": "bcce5697",
   "metadata": {},
   "outputs": [],
   "source": [
    "verifieddf['brand'].value_counts().head(20)"
   ]
  },
  {
   "cell_type": "code",
   "execution_count": null,
   "id": "4130b4f2",
   "metadata": {},
   "outputs": [],
   "source": [
    "pandas_df[''].value_counts()"
   ]
  },
  {
   "cell_type": "code",
   "execution_count": null,
   "id": "05be91d5",
   "metadata": {
    "scrolled": true
   },
   "outputs": [],
   "source": [
    "verifieddf = pandas_df[pandas_df[\"didPurchase\"] == True]\n",
    "verifieddf"
   ]
  },
  {
   "cell_type": "code",
   "execution_count": null,
   "id": "5f3e6ff8",
   "metadata": {},
   "outputs": [],
   "source": [
    "verifieddf['brand'].value_counts()"
   ]
  },
  {
   "cell_type": "code",
   "execution_count": null,
   "id": "9ef9213d",
   "metadata": {},
   "outputs": [],
   "source": [
    "verifieddf['brand'].unique()"
   ]
  },
  {
   "cell_type": "code",
   "execution_count": null,
   "id": "fe715e2d",
   "metadata": {},
   "outputs": [],
   "source": [
    "len(verifieddf['brand'].unique())"
   ]
  },
  {
   "cell_type": "code",
   "execution_count": null,
   "id": "8aa84b8b",
   "metadata": {},
   "outputs": [],
   "source": [
    "low_verified= verifieddf[verifieddf['reviewsrating']<3]\n",
    "low_verified"
   ]
  },
  {
   "cell_type": "code",
   "execution_count": null,
   "id": "430dbfa4",
   "metadata": {},
   "outputs": [],
   "source": [
    "high_verified = verifieddf[verifieddf['reviewsrating']>3]\n",
    "len(verifieddf[verifieddf['brand']=='Clorox'])"
   ]
  },
  {
   "cell_type": "code",
   "execution_count": null,
   "id": "ee9deb8b",
   "metadata": {},
   "outputs": [],
   "source": [
    "Tide=pandas_df[pandas_df['brand']=='Tide']\n",
    "Tide['reviewsrating'].value_counts(100)"
   ]
  },
  {
   "cell_type": "code",
   "execution_count": null,
   "id": "87cc29f1",
   "metadata": {},
   "outputs": [],
   "source": [
    "pandas_df['brand'].value_counts().head(10)\n"
   ]
  },
  {
   "cell_type": "code",
   "execution_count": null,
   "id": "640aaa20",
   "metadata": {},
   "outputs": [],
   "source": [
    "len(brand)"
   ]
  },
  {
   "cell_type": "code",
   "execution_count": null,
   "id": "54e9328d",
   "metadata": {},
   "outputs": [],
   "source": []
  },
  {
   "cell_type": "code",
   "execution_count": null,
   "id": "e9845ed7",
   "metadata": {},
   "outputs": [],
   "source": [
    "fig,ax = plt.subplots(figsize = (10,5))\n",
    "\n",
    "\n",
    "ax.hist(pandas_df['reviewsrating'])\n",
    "plt.xlabel('Review Rating')\n",
    "plt.ylabel('No. Reviews')\n",
    "plt.title('Review Ratings Total')\n",
    "plt.show()"
   ]
  },
  {
   "cell_type": "code",
   "execution_count": null,
   "id": "4d63c8ae",
   "metadata": {},
   "outputs": [],
   "source": []
  },
  {
   "cell_type": "code",
   "execution_count": null,
   "id": "c5ffa25a",
   "metadata": {},
   "outputs": [],
   "source": [
    "fig,ax = plt.subplots(figsize = (10,5))\n",
    "\n",
    "ax.hist(verifieddf['reviewsrating'], color = 'blue',alpha =.5)\n",
    "ax.hist(pandas_df['reviewsrating'],color ='red',alpha =.5)\n",
    "ax.set_xlabel('Review Rating')\n",
    "ax.set_ylabel('No. Reviews')\n",
    "ax.set_title('Verified Ratings Total')\n",
    "\n",
    "plt.show()"
   ]
  },
  {
   "cell_type": "code",
   "execution_count": null,
   "id": "afddead5",
   "metadata": {},
   "outputs": [],
   "source": [
    "fig,ax = plt.subplots(figsize = (10,5))\n",
    "\n",
    "ax.hist(verifieddf['reviewsrating'], color = 'blue',alpha =.5)\n",
    "\n",
    "ax.set_xlabel('Review Rating')\n",
    "ax.set_ylabel('No. Reviews')\n",
    "ax.set_title('Verified Ratings Total')\n",
    "\n",
    "plt.show()"
   ]
  },
  {
   "cell_type": "code",
   "execution_count": null,
   "id": "52efe130",
   "metadata": {
    "scrolled": true
   },
   "outputs": [],
   "source": [
    "fig,ax = plt.subplots(figsize = (10,5))\n",
    "\n",
    "# ax.hist(verifieddf['reviewsrating'])\n",
    "ax.hist(nverifieddf['reviewsrating'],color = 'orange')\n",
    "plt.xlabel('Review Rating')\n",
    "plt.ylabel('No. Reviews')\n",
    "plt.title('Unverified Ratings Total')\n",
    "plt.show()\n"
   ]
  },
  {
   "cell_type": "code",
   "execution_count": null,
   "id": "b5252206",
   "metadata": {},
   "outputs": [],
   "source": []
  },
  {
   "cell_type": "code",
   "execution_count": null,
   "id": "cbea47a1",
   "metadata": {},
   "outputs": [],
   "source": [
    "textlst = pandas_df['reviewstitle']\n",
    "retstring = []\n",
    "for i in textlst:\n",
    "    if type(i) == str:\n",
    "        retstring.append(i.lower()) \n",
    "titled={}\n",
    "for i in retstring:\n",
    "    if i not in titled:\n",
    "        titled[i]= 0\n",
    "    titled[i]+= 1 \n",
    "titled\n",
    "{k: v for k, v in sorted(titled.items(), key=lambda item: item[1],reverse = True)}"
   ]
  },
  {
   "cell_type": "code",
   "execution_count": null,
   "id": "2db3b6ed",
   "metadata": {},
   "outputs": [],
   "source": [
    "verifieddf[verifieddf['URL'].str.contains('walmart')]"
   ]
  },
  {
   "cell_type": "code",
   "execution_count": null,
   "id": "21744079",
   "metadata": {},
   "outputs": [],
   "source": [
    "nverifieddf[nverifieddf['URL'].str.contains('walmart')]"
   ]
  },
  {
   "cell_type": "code",
   "execution_count": null,
   "id": "a7f6fa99",
   "metadata": {},
   "outputs": [],
   "source": []
  },
  {
   "cell_type": "code",
   "execution_count": null,
   "id": "8b821623",
   "metadata": {},
   "outputs": [],
   "source": [
    "textlst = verifieddf['reviewstitle'].tolist()\n",
    "vretstring = []\n",
    "for i in textlst:\n",
    "    if type(i) == str:\n",
    "        vretstring.append(i.lower())\n",
    "\n",
    "\n",
    "from stop_words import get_stop_words\n",
    "stop_words = get_stop_words('english')\n",
    "dicts = {}\n",
    "for i in vretstring:\n",
    "    if i not in dicts:\n",
    "        dicts[i]=0\n",
    "    dicts[i]+=1\n",
    "{k: v for k, v in sorted(dicts.items(), key=lambda item: item[1],reverse = True)}\n",
    "# total verified review titles "
   ]
  },
  {
   "cell_type": "code",
   "execution_count": null,
   "id": "e83d1356",
   "metadata": {},
   "outputs": [],
   "source": [
    "len(verifieddf)"
   ]
  },
  {
   "cell_type": "code",
   "execution_count": null,
   "id": "700884c3",
   "metadata": {},
   "outputs": [],
   "source": [
    "textlst = nverifieddf['reviewstitle'].tolist()\n",
    "nretstring = []\n",
    "for i in textlst:\n",
    "    if type(i) == str:\n",
    "        nretstring.append(i.lower())\n",
    "\n",
    "\n",
    "from stop_words import get_stop_words\n",
    "stop_words = get_stop_words('english')\n",
    "dicts = {}\n",
    "for i in nretstring:\n",
    "    if i not in dicts:\n",
    "        dicts[i]=0\n",
    "    dicts[i]+=1\n",
    "{k: v for k, v in sorted(dicts.items(), key=lambda item: item[1],reverse = True)}\n",
    "\n",
    "totalcounts = 0\n",
    "for k,v in dicts.items():\n",
    "    if \"clorox\" in k or 'olay' in k or 'tide'in k:\n",
    "        totalcounts+= v\n",
    "\n",
    "#total unverified review title words "
   ]
  },
  {
   "cell_type": "code",
   "execution_count": null,
   "id": "37195de6",
   "metadata": {},
   "outputs": [],
   "source": [
    "clowipe= pandas_df[pandas_df['reviewstitle']=='clorox wipes']"
   ]
  },
  {
   "cell_type": "code",
   "execution_count": null,
   "id": "926de8a0",
   "metadata": {},
   "outputs": [],
   "source": [
    "clowipe[clowipe['doRecommend']==True]"
   ]
  },
  {
   "cell_type": "code",
   "execution_count": null,
   "id": "be04ca8a",
   "metadata": {},
   "outputs": [],
   "source": [
    "onlyclor= pandas_df[pandas_df['brand']=='Clorox']\n",
    "onlyclor"
   ]
  },
  {
   "cell_type": "code",
   "execution_count": null,
   "id": "f11efcbc",
   "metadata": {},
   "outputs": [],
   "source": [
    "len(nverifieddf)"
   ]
  },
  {
   "cell_type": "code",
   "execution_count": null,
   "id": "0c13f59a",
   "metadata": {},
   "outputs": [],
   "source": [
    "high_verify= verifieddf[verifieddf['reviewsrating']== 5]\n",
    "textlst = high_verify['reviewstitle'].tolist()\n",
    "nretstring = []\n",
    "for i in textlst:\n",
    "    if type(i) == str:\n",
    "        nretstring.append(i.lower())\n",
    "\n",
    "\n",
    "from stop_words import get_stop_words\n",
    "stop_words = get_stop_words('english')\n",
    "dicts = {}\n",
    "for i in nretstring:\n",
    "    if i not in dicts:\n",
    "        dicts[i]=0\n",
    "    dicts[i]+=1\n",
    "{k: v for k, v in sorted(dicts.items(), key=lambda item: item[1],reverse = True)}\n",
    "#  verified reviews with high ratings "
   ]
  },
  {
   "cell_type": "code",
   "execution_count": null,
   "id": "80f96ad0",
   "metadata": {},
   "outputs": [],
   "source": [
    "high_verify['reviewstitle'].value_counts().head(10)\n"
   ]
  },
  {
   "cell_type": "code",
   "execution_count": null,
   "id": "321769d3",
   "metadata": {
    "scrolled": true
   },
   "outputs": [],
   "source": [
    "fig, ax = plt.subplots()\n",
    "verifyhigh = high_verify['reviewstitle'].value_counts().head(20)\n",
    "ax = verifyhigh.plot.barh(color ='mediumaquamarine')\n",
    "ax.set_xlabel('Number of Titles')\n",
    "ax.set_title('Verified Purchase 5 Rating')\n",
    "\n"
   ]
  },
  {
   "cell_type": "code",
   "execution_count": null,
   "id": "e1332388",
   "metadata": {},
   "outputs": [],
   "source": [
    "low_verify= verifieddf[verifieddf['reviewsrating']== 1]\n",
    "textlst = low_verify['reviewstitle'].tolist()\n",
    "nretstring = []\n",
    "for i in textlst:\n",
    "    if type(i) == str:\n",
    "        nretstring.append(i.lower())\n",
    "\n",
    "\n",
    "from stop_words import get_stop_words\n",
    "stop_words = get_stop_words('english')\n",
    "dicts = {}\n",
    "for i in nretstring:\n",
    "    if i not in dicts:\n",
    "        dicts[i]=0\n",
    "    dicts[i]+=1\n",
    "{k: v for k, v in sorted(dicts.items(), key=lambda item: item[1],reverse = True)}\n",
    "\n",
    "# verfified reviews  with low rating"
   ]
  },
  {
   "cell_type": "code",
   "execution_count": null,
   "id": "e9c0411d",
   "metadata": {},
   "outputs": [],
   "source": [
    "fig, ax = plt.subplots()\n",
    "lowverified= low_verify['reviewstitle'].value_counts().head(20)\n",
    "ax=lowverified.plot.barh(color = 'orange')\n",
    "ax.set_xlabel('Number of Titles')\n",
    "ax.set_title('Verified Purchase 1 Rating')"
   ]
  },
  {
   "cell_type": "code",
   "execution_count": null,
   "id": "9c24317f",
   "metadata": {
    "scrolled": false
   },
   "outputs": [],
   "source": [
    "low_nverify= nverifieddf[nverifieddf['reviewsrating']== 1]\n",
    "textlst = low_nverify['reviewstitle'].tolist()\n",
    "nretstring = []\n",
    "for i in textlst:\n",
    "    if type(i) == str:\n",
    "        nretstring.append(i.lower())\n",
    "\n",
    "\n",
    "\n",
    "#low unverified ratings for products "
   ]
  },
  {
   "cell_type": "code",
   "execution_count": null,
   "id": "e5c1d1fb",
   "metadata": {},
   "outputs": [],
   "source": [
    "fig, ax = plt.subplots()\n",
    "\n",
    "lownverify= low_nverify['reviewstitle'].value_counts().head(20)\n",
    "ax = lownverify.plot.barh(color = 'crimson')\n",
    "\n",
    "ax.set_xlabel('Number of Titles')\n",
    "ax.set_title('Unverified Purchase 1 Rating')\n"
   ]
  },
  {
   "cell_type": "code",
   "execution_count": null,
   "id": "ba5b4c9d",
   "metadata": {},
   "outputs": [],
   "source": [
    "high_nverify= nverifieddf[nverifieddf['reviewsrating']== 5]\n",
    "textlst = high_nverify['reviewstitle'].tolist()\n",
    "nretstring = []\n",
    "for i in textlst:\n",
    "    if type(i) == str:\n",
    "        nretstring.append(i.lower())\n",
    "\n",
    "\n",
    "from stop_words import get_stop_words\n",
    "stop_words = get_stop_words('english')\n",
    "dicts = {}\n",
    "for i in nretstring:\n",
    "    if i not in dicts:\n",
    "        dicts[i]=0\n",
    "    dicts[i]+=1\n",
    "{k: v for k, v in sorted(dicts.items(), key=lambda item: item[1],reverse = True)}\n",
    "\n",
    "#high unverified ratings for product"
   ]
  },
  {
   "cell_type": "code",
   "execution_count": null,
   "id": "5ab96891",
   "metadata": {},
   "outputs": [],
   "source": [
    "highnverify = high_nverify['reviewstitle'].value_counts().head(20)\n",
    "fig,ax = plt.subplots()\n",
    "ax = highnverify.plot.barh(color = 'red')\n",
    "ax.set_xlabel(\"Number of Titles\")\n",
    "ax.set_ylabel('Titles')\n",
    "ax.set_title(\"Unverified 5 Rating\")"
   ]
  },
  {
   "cell_type": "code",
   "execution_count": null,
   "id": "671791fb",
   "metadata": {},
   "outputs": [],
   "source": [
    "allclorox=pandas_df[pandas_df['brand'].str.contains('Clorox')]\n",
    "len(allclorox)"
   ]
  },
  {
   "cell_type": "code",
   "execution_count": null,
   "id": "13711baf",
   "metadata": {},
   "outputs": [],
   "source": [
    "cloroxnv= nverifieddf[nverifieddf['brand'].str.contains('Clorox')]\n",
    "len(cloroxnv)"
   ]
  },
  {
   "cell_type": "code",
   "execution_count": null,
   "id": "06bb833d",
   "metadata": {},
   "outputs": [],
   "source": [
    "cloroxv= verifieddf[verifieddf['brand'].str.contains('Clorox')]\n",
    "len(cloroxv)\n"
   ]
  },
  {
   "cell_type": "code",
   "execution_count": null,
   "id": "9c38900c",
   "metadata": {},
   "outputs": [],
   "source": [
    "Clorox "
   ]
  }
 ],
 "metadata": {
  "kernelspec": {
   "display_name": "Python 3",
   "language": "python",
   "name": "python3"
  },
  "language_info": {
   "codemirror_mode": {
    "name": "ipython",
    "version": 3
   },
   "file_extension": ".py",
   "mimetype": "text/x-python",
   "name": "python",
   "nbconvert_exporter": "python",
   "pygments_lexer": "ipython3",
   "version": "3.8.10"
  }
 },
 "nbformat": 4,
 "nbformat_minor": 5
}
